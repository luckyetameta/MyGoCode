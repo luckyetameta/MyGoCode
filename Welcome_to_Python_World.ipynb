{
  "nbformat": 4,
  "nbformat_minor": 0,
  "metadata": {
    "colab": {
      "provenance": [],
      "toc_visible": true
    },
    "kernelspec": {
      "name": "python3",
      "display_name": "Python 3"
    },
    "language_info": {
      "name": "python"
    }
  },
  "cells": [
    {
      "cell_type": "code",
      "execution_count": 1,
      "metadata": {
        "colab": {
          "base_uri": "https://localhost:8080/"
        },
        "id": "D5bvonDkbzYw",
        "outputId": "1247ad41-5f2f-48f6-a155-56f45d18c7cf"
      },
      "outputs": [
        {
          "output_type": "stream",
          "name": "stdout",
          "text": [
            "welcome to python world!let start coding\n"
          ]
        }
      ],
      "source": [
        "print(\"welcome to python world!let start coding\")"
      ]
    }
  ]
}