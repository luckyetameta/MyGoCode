{
  "nbformat": 4,
  "nbformat_minor": 0,
  "metadata": {
    "colab": {
      "provenance": [],
      "authorship_tag": "ABX9TyO+4/szkU8lHmM17aDsz8is",
      "include_colab_link": true
    },
    "kernelspec": {
      "name": "python3",
      "display_name": "Python 3"
    },
    "language_info": {
      "name": "python"
    }
  },
  "cells": [
    {
      "cell_type": "markdown",
      "metadata": {
        "id": "view-in-github",
        "colab_type": "text"
      },
      "source": [
        "<a href=\"https://colab.research.google.com/github/luckyetameta/MyGoCode/blob/main/Python's_Basic_Operations.ipynb\" target=\"_parent\"><img src=\"https://colab.research.google.com/assets/colab-badge.svg\" alt=\"Open In Colab\"/></a>"
      ]
    },
    {
      "cell_type": "code",
      "execution_count": 2,
      "metadata": {
        "colab": {
          "base_uri": "https://localhost:8080/"
        },
        "id": "Ooi2WqyspseV",
        "outputId": "a1eb6a17-be99-4d92-caba-0ab32f4d7dc6"
      },
      "outputs": [
        {
          "output_type": "execute_result",
          "data": {
            "text/plain": [
              "str"
            ]
          },
          "metadata": {},
          "execution_count": 2
        }
      ],
      "source": [
        "x=\"what's your age?\"\n",
        "type(x)"
      ]
    },
    {
      "cell_type": "code",
      "source": [
        "x=40\n",
        "type(x)"
      ],
      "metadata": {
        "colab": {
          "base_uri": "https://localhost:8080/"
        },
        "id": "Ktlazt8GqpSF",
        "outputId": "56078b20-a5d2-44f9-b3c3-6b4a74454612"
      },
      "execution_count": 3,
      "outputs": [
        {
          "output_type": "execute_result",
          "data": {
            "text/plain": [
              "int"
            ]
          },
          "metadata": {},
          "execution_count": 3
        }
      ]
    },
    {
      "cell_type": "markdown",
      "source": [
        "**Python's Basic Operations**       \n",
        "\n"
      ],
      "metadata": {
        "id": "WXHQChYNsYaH"
      }
    },
    {
      "cell_type": "code",
      "source": [
        "x=2\n",
        "y=6"
      ],
      "metadata": {
        "id": "Byhjylp5slx2"
      },
      "execution_count": 4,
      "outputs": []
    },
    {
      "cell_type": "markdown",
      "source": [
        "Addition"
      ],
      "metadata": {
        "id": "D6tOBbj3sz70"
      }
    },
    {
      "cell_type": "code",
      "source": [
        "x+y\n",
        "print(\"the result is\",x+y) #the result is 8\n"
      ],
      "metadata": {
        "colab": {
          "base_uri": "https://localhost:8080/"
        },
        "id": "DUtWHVWjs5AF",
        "outputId": "9258e2cd-fbe1-44bd-f07a-c45e93e38db8"
      },
      "execution_count": 5,
      "outputs": [
        {
          "output_type": "stream",
          "name": "stdout",
          "text": [
            "the result is 8\n"
          ]
        }
      ]
    },
    {
      "cell_type": "markdown",
      "source": [
        "**Substraction**"
      ],
      "metadata": {
        "id": "RQQvqp_ytaPT"
      }
    },
    {
      "cell_type": "code",
      "source": [
        "x-y\n",
        "print(\"the result is\",x-y) #the result is -4"
      ],
      "metadata": {
        "colab": {
          "base_uri": "https://localhost:8080/"
        },
        "id": "_Ns5Qf6bti-l",
        "outputId": "44f08985-b601-4985-d94b-0fd18412d281"
      },
      "execution_count": 6,
      "outputs": [
        {
          "output_type": "stream",
          "name": "stdout",
          "text": [
            "the result is -4\n"
          ]
        }
      ]
    },
    {
      "cell_type": "markdown",
      "source": [
        "Multiplication"
      ],
      "metadata": {
        "id": "hcmqF7jZvXYw"
      }
    },
    {
      "cell_type": "code",
      "source": [
        "x*y\n",
        "print(\"the result is\",x*y) #the result is 12"
      ],
      "metadata": {
        "colab": {
          "base_uri": "https://localhost:8080/"
        },
        "id": "sPIlOPYgvdXC",
        "outputId": "356a0081-4109-4a00-b920-c88f6bee0b57"
      },
      "execution_count": 10,
      "outputs": [
        {
          "output_type": "stream",
          "name": "stdout",
          "text": [
            "the result is 12\n"
          ]
        }
      ]
    },
    {
      "cell_type": "markdown",
      "source": [
        "**Division**"
      ],
      "metadata": {
        "id": "2vExLptRv4sh"
      }
    },
    {
      "cell_type": "code",
      "source": [
        "y/x\n",
        "print(\"the result is\",y/x) #the result is 3.0"
      ],
      "metadata": {
        "colab": {
          "base_uri": "https://localhost:8080/"
        },
        "id": "5uzcXdnnv74h",
        "outputId": "6b998e43-f018-4ed4-9b7d-b2a678c16bee"
      },
      "execution_count": 11,
      "outputs": [
        {
          "output_type": "stream",
          "name": "stdout",
          "text": [
            "the result is 3.0\n"
          ]
        }
      ]
    },
    {
      "cell_type": "markdown",
      "source": [
        "**Power**"
      ],
      "metadata": {
        "id": "S1czC5czwi8l"
      }
    },
    {
      "cell_type": "code",
      "source": [
        "y**x\n",
        "print(\"the result is\",y**x) #the result is 36"
      ],
      "metadata": {
        "colab": {
          "base_uri": "https://localhost:8080/"
        },
        "id": "dS3rByjFwmZP",
        "outputId": "dca5759f-480c-49f5-9c58-a1f090fbca9e"
      },
      "execution_count": 14,
      "outputs": [
        {
          "output_type": "stream",
          "name": "stdout",
          "text": [
            "the result is 36\n"
          ]
        }
      ]
    },
    {
      "cell_type": "markdown",
      "source": [
        "**Modulo**"
      ],
      "metadata": {
        "id": "rxJ8TOO9w2px"
      }
    },
    {
      "cell_type": "code",
      "source": [
        "y%x\n",
        "print(\"the result is\",y%x) #the result is 0"
      ],
      "metadata": {
        "colab": {
          "base_uri": "https://localhost:8080/"
        },
        "id": "yWkvHYSiw6bc",
        "outputId": "be3f99fe-63b5-4c76-eebc-622f61531261"
      },
      "execution_count": 13,
      "outputs": [
        {
          "output_type": "stream",
          "name": "stdout",
          "text": [
            "the result is 0\n"
          ]
        }
      ]
    },
    {
      "cell_type": "code",
      "source": [
        "x=19\n",
        "y=10\n",
        "print(x%y*3/(x-y))"
      ],
      "metadata": {
        "colab": {
          "base_uri": "https://localhost:8080/"
        },
        "id": "EONdAnmyyIWs",
        "outputId": "7c679d26-3ea0-4874-8b0c-bcff80c606c5"
      },
      "execution_count": 15,
      "outputs": [
        {
          "output_type": "stream",
          "name": "stdout",
          "text": [
            "3.0\n"
          ]
        }
      ]
    },
    {
      "cell_type": "markdown",
      "source": [
        "**String Operations**"
      ],
      "metadata": {
        "id": "RzDI7hw6FBRz"
      }
    },
    {
      "cell_type": "code",
      "source": [
        "ch=\"organization name\"\n",
        "len(ch)"
      ],
      "metadata": {
        "colab": {
          "base_uri": "https://localhost:8080/"
        },
        "id": "OzP7ERlsNeak",
        "outputId": "4e2d13c7-6d74-4b0a-e4e0-9cc6acb6bb5b"
      },
      "execution_count": 26,
      "outputs": [
        {
          "output_type": "execute_result",
          "data": {
            "text/plain": [
              "17"
            ]
          },
          "metadata": {},
          "execution_count": 26
        }
      ]
    },
    {
      "cell_type": "code",
      "source": [
        "ch[0]\n"
      ],
      "metadata": {
        "colab": {
          "base_uri": "https://localhost:8080/",
          "height": 35
        },
        "id": "imP5ZBrGOGhA",
        "outputId": "fce18f73-eeb0-4cea-9889-982209d96bee"
      },
      "execution_count": 27,
      "outputs": [
        {
          "output_type": "execute_result",
          "data": {
            "text/plain": [
              "'o'"
            ],
            "application/vnd.google.colaboratory.intrinsic+json": {
              "type": "string"
            }
          },
          "metadata": {},
          "execution_count": 27
        }
      ]
    },
    {
      "cell_type": "code",
      "source": [
        "ch[-3]"
      ],
      "metadata": {
        "colab": {
          "base_uri": "https://localhost:8080/",
          "height": 35
        },
        "id": "k3utAME2OlvF",
        "outputId": "972deeb5-caee-4907-e7ed-f2c96fbba4fe"
      },
      "execution_count": 28,
      "outputs": [
        {
          "output_type": "execute_result",
          "data": {
            "text/plain": [
              "'a'"
            ],
            "application/vnd.google.colaboratory.intrinsic+json": {
              "type": "string"
            }
          },
          "metadata": {},
          "execution_count": 28
        }
      ]
    },
    {
      "cell_type": "code",
      "source": [
        "print(ch)"
      ],
      "metadata": {
        "colab": {
          "base_uri": "https://localhost:8080/"
        },
        "id": "rHiHcVDjQsjs",
        "outputId": "1509ea11-28a4-4ab5-e71d-2127f23443b9"
      },
      "execution_count": 29,
      "outputs": [
        {
          "output_type": "stream",
          "name": "stdout",
          "text": [
            "organization name\n"
          ]
        }
      ]
    },
    {
      "cell_type": "code",
      "source": [
        "ch.upper()"
      ],
      "metadata": {
        "colab": {
          "base_uri": "https://localhost:8080/",
          "height": 35
        },
        "id": "OpFw8zRgRAfO",
        "outputId": "16922c7f-3784-42c0-a38e-3df5c26cba9a"
      },
      "execution_count": 30,
      "outputs": [
        {
          "output_type": "execute_result",
          "data": {
            "text/plain": [
              "'ORGANIZATION NAME'"
            ],
            "application/vnd.google.colaboratory.intrinsic+json": {
              "type": "string"
            }
          },
          "metadata": {},
          "execution_count": 30
        }
      ]
    },
    {
      "cell_type": "code",
      "source": [
        "mystring=\"welcome to coding world\"\n",
        "print(mystring[len(mystring)-9])"
      ],
      "metadata": {
        "colab": {
          "base_uri": "https://localhost:8080/"
        },
        "id": "r8tjjcg3RSf8",
        "outputId": "e1424683-4d54-4933-d7ce-36b7f2798997"
      },
      "execution_count": 33,
      "outputs": [
        {
          "output_type": "stream",
          "name": "stdout",
          "text": [
            "i\n"
          ]
        }
      ]
    },
    {
      "cell_type": "markdown",
      "source": [
        "**Boolean Operations**"
      ],
      "metadata": {
        "id": "KVZckf-QU9bu"
      }
    },
    {
      "cell_type": "code",
      "source": [
        "(5 != 7) == (2 >1)\n"
      ],
      "metadata": {
        "colab": {
          "base_uri": "https://localhost:8080/"
        },
        "id": "7NEWzPdjUSGP",
        "outputId": "e136f078-8447-41d3-9be9-b07fc2b8c213"
      },
      "execution_count": 34,
      "outputs": [
        {
          "output_type": "execute_result",
          "data": {
            "text/plain": [
              "True"
            ]
          },
          "metadata": {},
          "execution_count": 34
        }
      ]
    },
    {
      "cell_type": "markdown",
      "source": [
        "**Boolean Comparison Operations**"
      ],
      "metadata": {
        "id": "80rSsh3MVks5"
      }
    },
    {
      "cell_type": "code",
      "source": [
        "3 != 8   #it returns True"
      ],
      "metadata": {
        "colab": {
          "base_uri": "https://localhost:8080/"
        },
        "id": "yEygKCbEVsEa",
        "outputId": "aa847723-123f-4281-cf3d-a63a9e5b50a6"
      },
      "execution_count": 35,
      "outputs": [
        {
          "output_type": "execute_result",
          "data": {
            "text/plain": [
              "True"
            ]
          },
          "metadata": {},
          "execution_count": 35
        }
      ]
    },
    {
      "cell_type": "code",
      "source": [
        "3 != 3   #it returns False"
      ],
      "metadata": {
        "colab": {
          "base_uri": "https://localhost:8080/"
        },
        "id": "jbQ9NLZWV4JL",
        "outputId": "509bea9e-4a75-4186-d192-a8395b1379f8"
      },
      "execution_count": 36,
      "outputs": [
        {
          "output_type": "execute_result",
          "data": {
            "text/plain": [
              "False"
            ]
          },
          "metadata": {},
          "execution_count": 36
        }
      ]
    },
    {
      "cell_type": "code",
      "source": [
        "(3!=4)==(5>2)"
      ],
      "metadata": {
        "colab": {
          "base_uri": "https://localhost:8080/"
        },
        "id": "F_jcqULxWIVF",
        "outputId": "67156a4c-1535-498c-eea7-895dc279d5a1"
      },
      "execution_count": 37,
      "outputs": [
        {
          "output_type": "execute_result",
          "data": {
            "text/plain": [
              "True"
            ]
          },
          "metadata": {},
          "execution_count": 37
        }
      ]
    },
    {
      "cell_type": "code",
      "source": [
        "(3!=4)==(5<2)"
      ],
      "metadata": {
        "colab": {
          "base_uri": "https://localhost:8080/"
        },
        "id": "uLeOwa5ZWxvN",
        "outputId": "c4caa8b6-3167-45d6-e8d3-2e799136d0dc"
      },
      "execution_count": 38,
      "outputs": [
        {
          "output_type": "execute_result",
          "data": {
            "text/plain": [
              "False"
            ]
          },
          "metadata": {},
          "execution_count": 38
        }
      ]
    },
    {
      "cell_type": "code",
      "source": [
        "(1!=1)==(4>5)"
      ],
      "metadata": {
        "colab": {
          "base_uri": "https://localhost:8080/"
        },
        "id": "5njhyPfBX_La",
        "outputId": "7e469618-c094-4efd-b2c0-0fd9dd4942e9"
      },
      "execution_count": 39,
      "outputs": [
        {
          "output_type": "execute_result",
          "data": {
            "text/plain": [
              "True"
            ]
          },
          "metadata": {},
          "execution_count": 39
        }
      ]
    },
    {
      "cell_type": "markdown",
      "source": [
        "**if Condition**"
      ],
      "metadata": {
        "id": "R_hyt2hBZLMe"
      }
    },
    {
      "cell_type": "code",
      "source": [
        "age=33\n",
        "age_min=20\n",
        "if age>age_min:\n",
        "  print(\"the passenger has survived Titanic accident\")\n",
        "  print(age)"
      ],
      "metadata": {
        "colab": {
          "base_uri": "https://localhost:8080/"
        },
        "id": "Vp8wOgtnZR0I",
        "outputId": "5141eb5c-a125-4ae3-96ba-2a33e5ec5ccd"
      },
      "execution_count": 40,
      "outputs": [
        {
          "output_type": "stream",
          "name": "stdout",
          "text": [
            "the passenger has survived Titanic accident\n",
            "33\n"
          ]
        }
      ]
    },
    {
      "cell_type": "code",
      "source": [
        "x=5\n",
        "if x<8:\n",
        "    print(x)"
      ],
      "metadata": {
        "colab": {
          "base_uri": "https://localhost:8080/"
        },
        "id": "ipodpWOReEcO",
        "outputId": "7e1c4cb0-5469-48e0-bd9f-adc5856479ff"
      },
      "execution_count": 45,
      "outputs": [
        {
          "output_type": "stream",
          "name": "stdout",
          "text": [
            "5\n"
          ]
        }
      ]
    },
    {
      "cell_type": "markdown",
      "source": [
        "**If/else/elif Clause**"
      ],
      "metadata": {
        "id": "q8jqCD5veci1"
      }
    },
    {
      "cell_type": "code",
      "source": [
        "Age=40\n",
        "if Age>20:\n",
        "      print(\"the passenger had survived\")\n",
        "elif Age==10:\n",
        "    print(\"the passenger had equal chance to survive\")\n",
        "else:\n",
        "      print(\"We need more information to make a decision\")"
      ],
      "metadata": {
        "colab": {
          "base_uri": "https://localhost:8080/"
        },
        "id": "zQMOM0QsefU4",
        "outputId": "cfab2f1f-27d0-44b9-9723-b773b25eeaf9"
      },
      "execution_count": 47,
      "outputs": [
        {
          "output_type": "stream",
          "name": "stdout",
          "text": [
            "the passenger had survived\n"
          ]
        }
      ]
    },
    {
      "cell_type": "code",
      "source": [
        "x = 5\n",
        "if x > 3:\n",
        "   print(\"x is higher than 3!\")\n",
        "else:\n",
        "   print(\"x is lower than 3!\")"
      ],
      "metadata": {
        "colab": {
          "base_uri": "https://localhost:8080/"
        },
        "id": "YaLbz1SyhXoi",
        "outputId": "befca299-eb37-413a-9157-2c603ae19bd4"
      },
      "execution_count": 48,
      "outputs": [
        {
          "output_type": "stream",
          "name": "stdout",
          "text": [
            "x is higher than 3!\n"
          ]
        }
      ]
    }
  ]
}