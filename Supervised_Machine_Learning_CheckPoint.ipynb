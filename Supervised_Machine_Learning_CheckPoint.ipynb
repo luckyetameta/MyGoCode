{
  "cells": [
    {
      "cell_type": "markdown",
      "metadata": {
        "id": "view-in-github",
        "colab_type": "text"
      },
      "source": [
        "<a href=\"https://colab.research.google.com/github/luckyetameta/MyGoCode/blob/main/Supervised_Machine_Learning_CheckPoint.ipynb\" target=\"_parent\"><img src=\"https://colab.research.google.com/assets/colab-badge.svg\" alt=\"Open In Colab\"/></a>"
      ]
    },
    {
      "cell_type": "markdown",
      "metadata": {
        "id": "n6e6D2oLmcLM"
      },
      "source": [
        "Objective\n",
        "\n",
        "Regression \n",
        "\n",
        "This is a dataset containing over 21613 houses and their characteristics. The goal is to find the best model to predict a house’s price. \n",
        " \n",
        "1. Explore this dataset using what you have learned in data preprocessing and data visualization \n",
        "2. Write a paragraph selecting the most important features (feature selection). \n",
        "3. Split your dataset into a training set and a testing set. \n",
        "4. Apply linear regression to your training set. \n",
        "5. Plot the linear regression. \n",
        "5. Measure the performance of linear regression using the testing set. \n",
        "6. Apply multiple-linear regression and compare it to the linear model. \n",
        "7. Apply polynomial regression and compare it to linear and multilinear regression. \n",
        "Note: Every result has to be interpreted and justified. Write your interpretations in a markdown.\n"
      ]
    },
    {
      "cell_type": "code",
      "execution_count": 2,
      "metadata": {
        "id": "zaeLer7ijcoq"
      },
      "outputs": [],
      "source": [
        "import pandas as pd"
      ]
    },
    {
      "cell_type": "code",
      "execution_count": 3,
      "metadata": {
        "id": "Em6WpZY2kg5z"
      },
      "outputs": [],
      "source": [
        "import numpy as np"
      ]
    },
    {
      "cell_type": "code",
      "execution_count": 4,
      "metadata": {
        "id": "rJKOGdzRTv9X"
      },
      "outputs": [],
      "source": [
        "import sklearn"
      ]
    },
    {
      "cell_type": "code",
      "execution_count": 5,
      "metadata": {
        "id": "9LarVsPoT_ZG"
      },
      "outputs": [],
      "source": [
        "from sklearn.model_selection import train_test_split"
      ]
    },
    {
      "cell_type": "code",
      "execution_count": 6,
      "metadata": {
        "id": "8_hfD_07bo93"
      },
      "outputs": [],
      "source": [
        "from sklearn.preprocessing import StandardScaler, PolynomialFeatures"
      ]
    },
    {
      "cell_type": "code",
      "execution_count": 7,
      "metadata": {
        "id": "S6m_2lwFx8zy"
      },
      "outputs": [],
      "source": [
        "from sklearn.linear_model import LinearRegression"
      ]
    },
    {
      "cell_type": "code",
      "execution_count": 8,
      "metadata": {
        "id": "uIkjnkGUyWRH"
      },
      "outputs": [],
      "source": [
        "from sklearn.metrics import mean_squared_error"
      ]
    },
    {
      "cell_type": "code",
      "execution_count": 9,
      "metadata": {
        "id": "VQ8gYZnHykk4"
      },
      "outputs": [],
      "source": [
        "from sklearn import metrics "
      ]
    },
    {
      "cell_type": "code",
      "execution_count": 10,
      "metadata": {
        "id": "kip8SJpaJAGp"
      },
      "outputs": [],
      "source": [
        "import matplotlib.pyplot as plt"
      ]
    },
    {
      "cell_type": "markdown",
      "metadata": {
        "id": "Az9NEDgPU5a3"
      },
      "source": [
        "Importing dataset/ reading cvs file"
      ]
    },
    {
      "cell_type": "code",
      "execution_count": 11,
      "metadata": {
        "colab": {
          "base_uri": "https://localhost:8080/",
          "height": 487
        },
        "id": "9y3yQGKGkngp",
        "outputId": "689fa008-7626-4837-c910-bd30939a5359"
      },
      "outputs": [
        {
          "output_type": "execute_result",
          "data": {
            "text/plain": [
              "               id             date     price  bedrooms  bathrooms  \\\n",
              "0      7129300520  20141013T000000  221900.0         3       1.00   \n",
              "1      6414100192  20141209T000000  538000.0         3       2.25   \n",
              "2      5631500400  20150225T000000  180000.0         2       1.00   \n",
              "3      2487200875  20141209T000000  604000.0         4       3.00   \n",
              "4      1954400510  20150218T000000  510000.0         3       2.00   \n",
              "...           ...              ...       ...       ...        ...   \n",
              "21608   263000018  20140521T000000  360000.0         3       2.50   \n",
              "21609  6600060120  20150223T000000  400000.0         4       2.50   \n",
              "21610  1523300141  20140623T000000  402101.0         2       0.75   \n",
              "21611   291310100  20150116T000000  400000.0         3       2.50   \n",
              "21612  1523300157  20141015T000000  325000.0         2       0.75   \n",
              "\n",
              "       sqft_living  sqft_lot  floors  waterfront  view  ...  grade  \\\n",
              "0             1180      5650     1.0           0     0  ...      7   \n",
              "1             2570      7242     2.0           0     0  ...      7   \n",
              "2              770     10000     1.0           0     0  ...      6   \n",
              "3             1960      5000     1.0           0     0  ...      7   \n",
              "4             1680      8080     1.0           0     0  ...      8   \n",
              "...            ...       ...     ...         ...   ...  ...    ...   \n",
              "21608         1530      1131     3.0           0     0  ...      8   \n",
              "21609         2310      5813     2.0           0     0  ...      8   \n",
              "21610         1020      1350     2.0           0     0  ...      7   \n",
              "21611         1600      2388     2.0           0     0  ...      8   \n",
              "21612         1020      1076     2.0           0     0  ...      7   \n",
              "\n",
              "       sqft_above  sqft_basement  yr_built  yr_renovated  zipcode      lat  \\\n",
              "0            1180              0      1955             0    98178  47.5112   \n",
              "1            2170            400      1951          1991    98125  47.7210   \n",
              "2             770              0      1933             0    98028  47.7379   \n",
              "3            1050            910      1965             0    98136  47.5208   \n",
              "4            1680              0      1987             0    98074  47.6168   \n",
              "...           ...            ...       ...           ...      ...      ...   \n",
              "21608        1530              0      2009             0    98103  47.6993   \n",
              "21609        2310              0      2014             0    98146  47.5107   \n",
              "21610        1020              0      2009             0    98144  47.5944   \n",
              "21611        1600              0      2004             0    98027  47.5345   \n",
              "21612        1020              0      2008             0    98144  47.5941   \n",
              "\n",
              "          long  sqft_living15  sqft_lot15  \n",
              "0     -122.257           1340        5650  \n",
              "1     -122.319           1690        7639  \n",
              "2     -122.233           2720        8062  \n",
              "3     -122.393           1360        5000  \n",
              "4     -122.045           1800        7503  \n",
              "...        ...            ...         ...  \n",
              "21608 -122.346           1530        1509  \n",
              "21609 -122.362           1830        7200  \n",
              "21610 -122.299           1020        2007  \n",
              "21611 -122.069           1410        1287  \n",
              "21612 -122.299           1020        1357  \n",
              "\n",
              "[21613 rows x 21 columns]"
            ],
            "text/html": [
              "\n",
              "  <div id=\"df-43c8363e-3960-4762-a354-0d8d98621a39\">\n",
              "    <div class=\"colab-df-container\">\n",
              "      <div>\n",
              "<style scoped>\n",
              "    .dataframe tbody tr th:only-of-type {\n",
              "        vertical-align: middle;\n",
              "    }\n",
              "\n",
              "    .dataframe tbody tr th {\n",
              "        vertical-align: top;\n",
              "    }\n",
              "\n",
              "    .dataframe thead th {\n",
              "        text-align: right;\n",
              "    }\n",
              "</style>\n",
              "<table border=\"1\" class=\"dataframe\">\n",
              "  <thead>\n",
              "    <tr style=\"text-align: right;\">\n",
              "      <th></th>\n",
              "      <th>id</th>\n",
              "      <th>date</th>\n",
              "      <th>price</th>\n",
              "      <th>bedrooms</th>\n",
              "      <th>bathrooms</th>\n",
              "      <th>sqft_living</th>\n",
              "      <th>sqft_lot</th>\n",
              "      <th>floors</th>\n",
              "      <th>waterfront</th>\n",
              "      <th>view</th>\n",
              "      <th>...</th>\n",
              "      <th>grade</th>\n",
              "      <th>sqft_above</th>\n",
              "      <th>sqft_basement</th>\n",
              "      <th>yr_built</th>\n",
              "      <th>yr_renovated</th>\n",
              "      <th>zipcode</th>\n",
              "      <th>lat</th>\n",
              "      <th>long</th>\n",
              "      <th>sqft_living15</th>\n",
              "      <th>sqft_lot15</th>\n",
              "    </tr>\n",
              "  </thead>\n",
              "  <tbody>\n",
              "    <tr>\n",
              "      <th>0</th>\n",
              "      <td>7129300520</td>\n",
              "      <td>20141013T000000</td>\n",
              "      <td>221900.0</td>\n",
              "      <td>3</td>\n",
              "      <td>1.00</td>\n",
              "      <td>1180</td>\n",
              "      <td>5650</td>\n",
              "      <td>1.0</td>\n",
              "      <td>0</td>\n",
              "      <td>0</td>\n",
              "      <td>...</td>\n",
              "      <td>7</td>\n",
              "      <td>1180</td>\n",
              "      <td>0</td>\n",
              "      <td>1955</td>\n",
              "      <td>0</td>\n",
              "      <td>98178</td>\n",
              "      <td>47.5112</td>\n",
              "      <td>-122.257</td>\n",
              "      <td>1340</td>\n",
              "      <td>5650</td>\n",
              "    </tr>\n",
              "    <tr>\n",
              "      <th>1</th>\n",
              "      <td>6414100192</td>\n",
              "      <td>20141209T000000</td>\n",
              "      <td>538000.0</td>\n",
              "      <td>3</td>\n",
              "      <td>2.25</td>\n",
              "      <td>2570</td>\n",
              "      <td>7242</td>\n",
              "      <td>2.0</td>\n",
              "      <td>0</td>\n",
              "      <td>0</td>\n",
              "      <td>...</td>\n",
              "      <td>7</td>\n",
              "      <td>2170</td>\n",
              "      <td>400</td>\n",
              "      <td>1951</td>\n",
              "      <td>1991</td>\n",
              "      <td>98125</td>\n",
              "      <td>47.7210</td>\n",
              "      <td>-122.319</td>\n",
              "      <td>1690</td>\n",
              "      <td>7639</td>\n",
              "    </tr>\n",
              "    <tr>\n",
              "      <th>2</th>\n",
              "      <td>5631500400</td>\n",
              "      <td>20150225T000000</td>\n",
              "      <td>180000.0</td>\n",
              "      <td>2</td>\n",
              "      <td>1.00</td>\n",
              "      <td>770</td>\n",
              "      <td>10000</td>\n",
              "      <td>1.0</td>\n",
              "      <td>0</td>\n",
              "      <td>0</td>\n",
              "      <td>...</td>\n",
              "      <td>6</td>\n",
              "      <td>770</td>\n",
              "      <td>0</td>\n",
              "      <td>1933</td>\n",
              "      <td>0</td>\n",
              "      <td>98028</td>\n",
              "      <td>47.7379</td>\n",
              "      <td>-122.233</td>\n",
              "      <td>2720</td>\n",
              "      <td>8062</td>\n",
              "    </tr>\n",
              "    <tr>\n",
              "      <th>3</th>\n",
              "      <td>2487200875</td>\n",
              "      <td>20141209T000000</td>\n",
              "      <td>604000.0</td>\n",
              "      <td>4</td>\n",
              "      <td>3.00</td>\n",
              "      <td>1960</td>\n",
              "      <td>5000</td>\n",
              "      <td>1.0</td>\n",
              "      <td>0</td>\n",
              "      <td>0</td>\n",
              "      <td>...</td>\n",
              "      <td>7</td>\n",
              "      <td>1050</td>\n",
              "      <td>910</td>\n",
              "      <td>1965</td>\n",
              "      <td>0</td>\n",
              "      <td>98136</td>\n",
              "      <td>47.5208</td>\n",
              "      <td>-122.393</td>\n",
              "      <td>1360</td>\n",
              "      <td>5000</td>\n",
              "    </tr>\n",
              "    <tr>\n",
              "      <th>4</th>\n",
              "      <td>1954400510</td>\n",
              "      <td>20150218T000000</td>\n",
              "      <td>510000.0</td>\n",
              "      <td>3</td>\n",
              "      <td>2.00</td>\n",
              "      <td>1680</td>\n",
              "      <td>8080</td>\n",
              "      <td>1.0</td>\n",
              "      <td>0</td>\n",
              "      <td>0</td>\n",
              "      <td>...</td>\n",
              "      <td>8</td>\n",
              "      <td>1680</td>\n",
              "      <td>0</td>\n",
              "      <td>1987</td>\n",
              "      <td>0</td>\n",
              "      <td>98074</td>\n",
              "      <td>47.6168</td>\n",
              "      <td>-122.045</td>\n",
              "      <td>1800</td>\n",
              "      <td>7503</td>\n",
              "    </tr>\n",
              "    <tr>\n",
              "      <th>...</th>\n",
              "      <td>...</td>\n",
              "      <td>...</td>\n",
              "      <td>...</td>\n",
              "      <td>...</td>\n",
              "      <td>...</td>\n",
              "      <td>...</td>\n",
              "      <td>...</td>\n",
              "      <td>...</td>\n",
              "      <td>...</td>\n",
              "      <td>...</td>\n",
              "      <td>...</td>\n",
              "      <td>...</td>\n",
              "      <td>...</td>\n",
              "      <td>...</td>\n",
              "      <td>...</td>\n",
              "      <td>...</td>\n",
              "      <td>...</td>\n",
              "      <td>...</td>\n",
              "      <td>...</td>\n",
              "      <td>...</td>\n",
              "      <td>...</td>\n",
              "    </tr>\n",
              "    <tr>\n",
              "      <th>21608</th>\n",
              "      <td>263000018</td>\n",
              "      <td>20140521T000000</td>\n",
              "      <td>360000.0</td>\n",
              "      <td>3</td>\n",
              "      <td>2.50</td>\n",
              "      <td>1530</td>\n",
              "      <td>1131</td>\n",
              "      <td>3.0</td>\n",
              "      <td>0</td>\n",
              "      <td>0</td>\n",
              "      <td>...</td>\n",
              "      <td>8</td>\n",
              "      <td>1530</td>\n",
              "      <td>0</td>\n",
              "      <td>2009</td>\n",
              "      <td>0</td>\n",
              "      <td>98103</td>\n",
              "      <td>47.6993</td>\n",
              "      <td>-122.346</td>\n",
              "      <td>1530</td>\n",
              "      <td>1509</td>\n",
              "    </tr>\n",
              "    <tr>\n",
              "      <th>21609</th>\n",
              "      <td>6600060120</td>\n",
              "      <td>20150223T000000</td>\n",
              "      <td>400000.0</td>\n",
              "      <td>4</td>\n",
              "      <td>2.50</td>\n",
              "      <td>2310</td>\n",
              "      <td>5813</td>\n",
              "      <td>2.0</td>\n",
              "      <td>0</td>\n",
              "      <td>0</td>\n",
              "      <td>...</td>\n",
              "      <td>8</td>\n",
              "      <td>2310</td>\n",
              "      <td>0</td>\n",
              "      <td>2014</td>\n",
              "      <td>0</td>\n",
              "      <td>98146</td>\n",
              "      <td>47.5107</td>\n",
              "      <td>-122.362</td>\n",
              "      <td>1830</td>\n",
              "      <td>7200</td>\n",
              "    </tr>\n",
              "    <tr>\n",
              "      <th>21610</th>\n",
              "      <td>1523300141</td>\n",
              "      <td>20140623T000000</td>\n",
              "      <td>402101.0</td>\n",
              "      <td>2</td>\n",
              "      <td>0.75</td>\n",
              "      <td>1020</td>\n",
              "      <td>1350</td>\n",
              "      <td>2.0</td>\n",
              "      <td>0</td>\n",
              "      <td>0</td>\n",
              "      <td>...</td>\n",
              "      <td>7</td>\n",
              "      <td>1020</td>\n",
              "      <td>0</td>\n",
              "      <td>2009</td>\n",
              "      <td>0</td>\n",
              "      <td>98144</td>\n",
              "      <td>47.5944</td>\n",
              "      <td>-122.299</td>\n",
              "      <td>1020</td>\n",
              "      <td>2007</td>\n",
              "    </tr>\n",
              "    <tr>\n",
              "      <th>21611</th>\n",
              "      <td>291310100</td>\n",
              "      <td>20150116T000000</td>\n",
              "      <td>400000.0</td>\n",
              "      <td>3</td>\n",
              "      <td>2.50</td>\n",
              "      <td>1600</td>\n",
              "      <td>2388</td>\n",
              "      <td>2.0</td>\n",
              "      <td>0</td>\n",
              "      <td>0</td>\n",
              "      <td>...</td>\n",
              "      <td>8</td>\n",
              "      <td>1600</td>\n",
              "      <td>0</td>\n",
              "      <td>2004</td>\n",
              "      <td>0</td>\n",
              "      <td>98027</td>\n",
              "      <td>47.5345</td>\n",
              "      <td>-122.069</td>\n",
              "      <td>1410</td>\n",
              "      <td>1287</td>\n",
              "    </tr>\n",
              "    <tr>\n",
              "      <th>21612</th>\n",
              "      <td>1523300157</td>\n",
              "      <td>20141015T000000</td>\n",
              "      <td>325000.0</td>\n",
              "      <td>2</td>\n",
              "      <td>0.75</td>\n",
              "      <td>1020</td>\n",
              "      <td>1076</td>\n",
              "      <td>2.0</td>\n",
              "      <td>0</td>\n",
              "      <td>0</td>\n",
              "      <td>...</td>\n",
              "      <td>7</td>\n",
              "      <td>1020</td>\n",
              "      <td>0</td>\n",
              "      <td>2008</td>\n",
              "      <td>0</td>\n",
              "      <td>98144</td>\n",
              "      <td>47.5941</td>\n",
              "      <td>-122.299</td>\n",
              "      <td>1020</td>\n",
              "      <td>1357</td>\n",
              "    </tr>\n",
              "  </tbody>\n",
              "</table>\n",
              "<p>21613 rows × 21 columns</p>\n",
              "</div>\n",
              "      <button class=\"colab-df-convert\" onclick=\"convertToInteractive('df-43c8363e-3960-4762-a354-0d8d98621a39')\"\n",
              "              title=\"Convert this dataframe to an interactive table.\"\n",
              "              style=\"display:none;\">\n",
              "        \n",
              "  <svg xmlns=\"http://www.w3.org/2000/svg\" height=\"24px\"viewBox=\"0 0 24 24\"\n",
              "       width=\"24px\">\n",
              "    <path d=\"M0 0h24v24H0V0z\" fill=\"none\"/>\n",
              "    <path d=\"M18.56 5.44l.94 2.06.94-2.06 2.06-.94-2.06-.94-.94-2.06-.94 2.06-2.06.94zm-11 1L8.5 8.5l.94-2.06 2.06-.94-2.06-.94L8.5 2.5l-.94 2.06-2.06.94zm10 10l.94 2.06.94-2.06 2.06-.94-2.06-.94-.94-2.06-.94 2.06-2.06.94z\"/><path d=\"M17.41 7.96l-1.37-1.37c-.4-.4-.92-.59-1.43-.59-.52 0-1.04.2-1.43.59L10.3 9.45l-7.72 7.72c-.78.78-.78 2.05 0 2.83L4 21.41c.39.39.9.59 1.41.59.51 0 1.02-.2 1.41-.59l7.78-7.78 2.81-2.81c.8-.78.8-2.07 0-2.86zM5.41 20L4 18.59l7.72-7.72 1.47 1.35L5.41 20z\"/>\n",
              "  </svg>\n",
              "      </button>\n",
              "      \n",
              "  <style>\n",
              "    .colab-df-container {\n",
              "      display:flex;\n",
              "      flex-wrap:wrap;\n",
              "      gap: 12px;\n",
              "    }\n",
              "\n",
              "    .colab-df-convert {\n",
              "      background-color: #E8F0FE;\n",
              "      border: none;\n",
              "      border-radius: 50%;\n",
              "      cursor: pointer;\n",
              "      display: none;\n",
              "      fill: #1967D2;\n",
              "      height: 32px;\n",
              "      padding: 0 0 0 0;\n",
              "      width: 32px;\n",
              "    }\n",
              "\n",
              "    .colab-df-convert:hover {\n",
              "      background-color: #E2EBFA;\n",
              "      box-shadow: 0px 1px 2px rgba(60, 64, 67, 0.3), 0px 1px 3px 1px rgba(60, 64, 67, 0.15);\n",
              "      fill: #174EA6;\n",
              "    }\n",
              "\n",
              "    [theme=dark] .colab-df-convert {\n",
              "      background-color: #3B4455;\n",
              "      fill: #D2E3FC;\n",
              "    }\n",
              "\n",
              "    [theme=dark] .colab-df-convert:hover {\n",
              "      background-color: #434B5C;\n",
              "      box-shadow: 0px 1px 3px 1px rgba(0, 0, 0, 0.15);\n",
              "      filter: drop-shadow(0px 1px 2px rgba(0, 0, 0, 0.3));\n",
              "      fill: #FFFFFF;\n",
              "    }\n",
              "  </style>\n",
              "\n",
              "      <script>\n",
              "        const buttonEl =\n",
              "          document.querySelector('#df-43c8363e-3960-4762-a354-0d8d98621a39 button.colab-df-convert');\n",
              "        buttonEl.style.display =\n",
              "          google.colab.kernel.accessAllowed ? 'block' : 'none';\n",
              "\n",
              "        async function convertToInteractive(key) {\n",
              "          const element = document.querySelector('#df-43c8363e-3960-4762-a354-0d8d98621a39');\n",
              "          const dataTable =\n",
              "            await google.colab.kernel.invokeFunction('convertToInteractive',\n",
              "                                                     [key], {});\n",
              "          if (!dataTable) return;\n",
              "\n",
              "          const docLinkHtml = 'Like what you see? Visit the ' +\n",
              "            '<a target=\"_blank\" href=https://colab.research.google.com/notebooks/data_table.ipynb>data table notebook</a>'\n",
              "            + ' to learn more about interactive tables.';\n",
              "          element.innerHTML = '';\n",
              "          dataTable['output_type'] = 'display_data';\n",
              "          await google.colab.output.renderOutput(dataTable, element);\n",
              "          const docLink = document.createElement('div');\n",
              "          docLink.innerHTML = docLinkHtml;\n",
              "          element.appendChild(docLink);\n",
              "        }\n",
              "      </script>\n",
              "    </div>\n",
              "  </div>\n",
              "  "
            ]
          },
          "metadata": {},
          "execution_count": 11
        }
      ],
      "source": [
        "house = pd.read_csv('/content/sample_data/house.csv') \n",
        "\n",
        "house\n"
      ]
    },
    {
      "cell_type": "code",
      "execution_count": 12,
      "metadata": {
        "colab": {
          "base_uri": "https://localhost:8080/"
        },
        "id": "6oL1112vll8l",
        "outputId": "eaf471f0-034b-4d89-8346-57ad17fa203a"
      },
      "outputs": [
        {
          "output_type": "execute_result",
          "data": {
            "text/plain": [
              "id               0\n",
              "date             0\n",
              "price            0\n",
              "bedrooms         0\n",
              "bathrooms        0\n",
              "sqft_living      0\n",
              "sqft_lot         0\n",
              "floors           0\n",
              "waterfront       0\n",
              "view             0\n",
              "condition        0\n",
              "grade            0\n",
              "sqft_above       0\n",
              "sqft_basement    0\n",
              "yr_built         0\n",
              "yr_renovated     0\n",
              "zipcode          0\n",
              "lat              0\n",
              "long             0\n",
              "sqft_living15    0\n",
              "sqft_lot15       0\n",
              "dtype: int64"
            ]
          },
          "metadata": {},
          "execution_count": 12
        }
      ],
      "source": [
        "                          house.isnull().sum() # checking for missing values"
      ]
    },
    {
      "cell_type": "code",
      "execution_count": 13,
      "metadata": {
        "colab": {
          "base_uri": "https://localhost:8080/"
        },
        "id": "Ou2a5Za5l-FE",
        "outputId": "6fd5b896-a15a-41dc-8de8-82993ac77d3c"
      },
      "outputs": [
        {
          "output_type": "execute_result",
          "data": {
            "text/plain": [
              "2"
            ]
          },
          "metadata": {},
          "execution_count": 13
        }
      ],
      "source": [
        "house['waterfront'].nunique() # getting unique values"
      ]
    },
    {
      "cell_type": "code",
      "execution_count": 14,
      "metadata": {
        "colab": {
          "base_uri": "https://localhost:8080/",
          "height": 487
        },
        "id": "OQJJuMSeqi7e",
        "outputId": "147710ef-c278-452c-900a-c630f0465615"
      },
      "outputs": [
        {
          "output_type": "execute_result",
          "data": {
            "text/plain": [
              "       bedrooms  bathrooms  sqft_living  sqft_lot  floors  waterfront  view  \\\n",
              "0             3       1.00         1180      5650     1.0           0     0   \n",
              "1             3       2.25         2570      7242     2.0           0     0   \n",
              "2             2       1.00          770     10000     1.0           0     0   \n",
              "3             4       3.00         1960      5000     1.0           0     0   \n",
              "4             3       2.00         1680      8080     1.0           0     0   \n",
              "...         ...        ...          ...       ...     ...         ...   ...   \n",
              "21608         3       2.50         1530      1131     3.0           0     0   \n",
              "21609         4       2.50         2310      5813     2.0           0     0   \n",
              "21610         2       0.75         1020      1350     2.0           0     0   \n",
              "21611         3       2.50         1600      2388     2.0           0     0   \n",
              "21612         2       0.75         1020      1076     2.0           0     0   \n",
              "\n",
              "       condition  grade  sqft_above  sqft_basement  yr_built  yr_renovated  \\\n",
              "0              3      7        1180              0      1955             0   \n",
              "1              3      7        2170            400      1951          1991   \n",
              "2              3      6         770              0      1933             0   \n",
              "3              5      7        1050            910      1965             0   \n",
              "4              3      8        1680              0      1987             0   \n",
              "...          ...    ...         ...            ...       ...           ...   \n",
              "21608          3      8        1530              0      2009             0   \n",
              "21609          3      8        2310              0      2014             0   \n",
              "21610          3      7        1020              0      2009             0   \n",
              "21611          3      8        1600              0      2004             0   \n",
              "21612          3      7        1020              0      2008             0   \n",
              "\n",
              "           lat     long  sqft_living15  sqft_lot15     price  \n",
              "0      47.5112 -122.257           1340        5650  221900.0  \n",
              "1      47.7210 -122.319           1690        7639  538000.0  \n",
              "2      47.7379 -122.233           2720        8062  180000.0  \n",
              "3      47.5208 -122.393           1360        5000  604000.0  \n",
              "4      47.6168 -122.045           1800        7503  510000.0  \n",
              "...        ...      ...            ...         ...       ...  \n",
              "21608  47.6993 -122.346           1530        1509  360000.0  \n",
              "21609  47.5107 -122.362           1830        7200  400000.0  \n",
              "21610  47.5944 -122.299           1020        2007  402101.0  \n",
              "21611  47.5345 -122.069           1410        1287  400000.0  \n",
              "21612  47.5941 -122.299           1020        1357  325000.0  \n",
              "\n",
              "[21613 rows x 18 columns]"
            ],
            "text/html": [
              "\n",
              "  <div id=\"df-2f2ba0fb-243f-4c9e-a7e0-ced3e69bd69f\">\n",
              "    <div class=\"colab-df-container\">\n",
              "      <div>\n",
              "<style scoped>\n",
              "    .dataframe tbody tr th:only-of-type {\n",
              "        vertical-align: middle;\n",
              "    }\n",
              "\n",
              "    .dataframe tbody tr th {\n",
              "        vertical-align: top;\n",
              "    }\n",
              "\n",
              "    .dataframe thead th {\n",
              "        text-align: right;\n",
              "    }\n",
              "</style>\n",
              "<table border=\"1\" class=\"dataframe\">\n",
              "  <thead>\n",
              "    <tr style=\"text-align: right;\">\n",
              "      <th></th>\n",
              "      <th>bedrooms</th>\n",
              "      <th>bathrooms</th>\n",
              "      <th>sqft_living</th>\n",
              "      <th>sqft_lot</th>\n",
              "      <th>floors</th>\n",
              "      <th>waterfront</th>\n",
              "      <th>view</th>\n",
              "      <th>condition</th>\n",
              "      <th>grade</th>\n",
              "      <th>sqft_above</th>\n",
              "      <th>sqft_basement</th>\n",
              "      <th>yr_built</th>\n",
              "      <th>yr_renovated</th>\n",
              "      <th>lat</th>\n",
              "      <th>long</th>\n",
              "      <th>sqft_living15</th>\n",
              "      <th>sqft_lot15</th>\n",
              "      <th>price</th>\n",
              "    </tr>\n",
              "  </thead>\n",
              "  <tbody>\n",
              "    <tr>\n",
              "      <th>0</th>\n",
              "      <td>3</td>\n",
              "      <td>1.00</td>\n",
              "      <td>1180</td>\n",
              "      <td>5650</td>\n",
              "      <td>1.0</td>\n",
              "      <td>0</td>\n",
              "      <td>0</td>\n",
              "      <td>3</td>\n",
              "      <td>7</td>\n",
              "      <td>1180</td>\n",
              "      <td>0</td>\n",
              "      <td>1955</td>\n",
              "      <td>0</td>\n",
              "      <td>47.5112</td>\n",
              "      <td>-122.257</td>\n",
              "      <td>1340</td>\n",
              "      <td>5650</td>\n",
              "      <td>221900.0</td>\n",
              "    </tr>\n",
              "    <tr>\n",
              "      <th>1</th>\n",
              "      <td>3</td>\n",
              "      <td>2.25</td>\n",
              "      <td>2570</td>\n",
              "      <td>7242</td>\n",
              "      <td>2.0</td>\n",
              "      <td>0</td>\n",
              "      <td>0</td>\n",
              "      <td>3</td>\n",
              "      <td>7</td>\n",
              "      <td>2170</td>\n",
              "      <td>400</td>\n",
              "      <td>1951</td>\n",
              "      <td>1991</td>\n",
              "      <td>47.7210</td>\n",
              "      <td>-122.319</td>\n",
              "      <td>1690</td>\n",
              "      <td>7639</td>\n",
              "      <td>538000.0</td>\n",
              "    </tr>\n",
              "    <tr>\n",
              "      <th>2</th>\n",
              "      <td>2</td>\n",
              "      <td>1.00</td>\n",
              "      <td>770</td>\n",
              "      <td>10000</td>\n",
              "      <td>1.0</td>\n",
              "      <td>0</td>\n",
              "      <td>0</td>\n",
              "      <td>3</td>\n",
              "      <td>6</td>\n",
              "      <td>770</td>\n",
              "      <td>0</td>\n",
              "      <td>1933</td>\n",
              "      <td>0</td>\n",
              "      <td>47.7379</td>\n",
              "      <td>-122.233</td>\n",
              "      <td>2720</td>\n",
              "      <td>8062</td>\n",
              "      <td>180000.0</td>\n",
              "    </tr>\n",
              "    <tr>\n",
              "      <th>3</th>\n",
              "      <td>4</td>\n",
              "      <td>3.00</td>\n",
              "      <td>1960</td>\n",
              "      <td>5000</td>\n",
              "      <td>1.0</td>\n",
              "      <td>0</td>\n",
              "      <td>0</td>\n",
              "      <td>5</td>\n",
              "      <td>7</td>\n",
              "      <td>1050</td>\n",
              "      <td>910</td>\n",
              "      <td>1965</td>\n",
              "      <td>0</td>\n",
              "      <td>47.5208</td>\n",
              "      <td>-122.393</td>\n",
              "      <td>1360</td>\n",
              "      <td>5000</td>\n",
              "      <td>604000.0</td>\n",
              "    </tr>\n",
              "    <tr>\n",
              "      <th>4</th>\n",
              "      <td>3</td>\n",
              "      <td>2.00</td>\n",
              "      <td>1680</td>\n",
              "      <td>8080</td>\n",
              "      <td>1.0</td>\n",
              "      <td>0</td>\n",
              "      <td>0</td>\n",
              "      <td>3</td>\n",
              "      <td>8</td>\n",
              "      <td>1680</td>\n",
              "      <td>0</td>\n",
              "      <td>1987</td>\n",
              "      <td>0</td>\n",
              "      <td>47.6168</td>\n",
              "      <td>-122.045</td>\n",
              "      <td>1800</td>\n",
              "      <td>7503</td>\n",
              "      <td>510000.0</td>\n",
              "    </tr>\n",
              "    <tr>\n",
              "      <th>...</th>\n",
              "      <td>...</td>\n",
              "      <td>...</td>\n",
              "      <td>...</td>\n",
              "      <td>...</td>\n",
              "      <td>...</td>\n",
              "      <td>...</td>\n",
              "      <td>...</td>\n",
              "      <td>...</td>\n",
              "      <td>...</td>\n",
              "      <td>...</td>\n",
              "      <td>...</td>\n",
              "      <td>...</td>\n",
              "      <td>...</td>\n",
              "      <td>...</td>\n",
              "      <td>...</td>\n",
              "      <td>...</td>\n",
              "      <td>...</td>\n",
              "      <td>...</td>\n",
              "    </tr>\n",
              "    <tr>\n",
              "      <th>21608</th>\n",
              "      <td>3</td>\n",
              "      <td>2.50</td>\n",
              "      <td>1530</td>\n",
              "      <td>1131</td>\n",
              "      <td>3.0</td>\n",
              "      <td>0</td>\n",
              "      <td>0</td>\n",
              "      <td>3</td>\n",
              "      <td>8</td>\n",
              "      <td>1530</td>\n",
              "      <td>0</td>\n",
              "      <td>2009</td>\n",
              "      <td>0</td>\n",
              "      <td>47.6993</td>\n",
              "      <td>-122.346</td>\n",
              "      <td>1530</td>\n",
              "      <td>1509</td>\n",
              "      <td>360000.0</td>\n",
              "    </tr>\n",
              "    <tr>\n",
              "      <th>21609</th>\n",
              "      <td>4</td>\n",
              "      <td>2.50</td>\n",
              "      <td>2310</td>\n",
              "      <td>5813</td>\n",
              "      <td>2.0</td>\n",
              "      <td>0</td>\n",
              "      <td>0</td>\n",
              "      <td>3</td>\n",
              "      <td>8</td>\n",
              "      <td>2310</td>\n",
              "      <td>0</td>\n",
              "      <td>2014</td>\n",
              "      <td>0</td>\n",
              "      <td>47.5107</td>\n",
              "      <td>-122.362</td>\n",
              "      <td>1830</td>\n",
              "      <td>7200</td>\n",
              "      <td>400000.0</td>\n",
              "    </tr>\n",
              "    <tr>\n",
              "      <th>21610</th>\n",
              "      <td>2</td>\n",
              "      <td>0.75</td>\n",
              "      <td>1020</td>\n",
              "      <td>1350</td>\n",
              "      <td>2.0</td>\n",
              "      <td>0</td>\n",
              "      <td>0</td>\n",
              "      <td>3</td>\n",
              "      <td>7</td>\n",
              "      <td>1020</td>\n",
              "      <td>0</td>\n",
              "      <td>2009</td>\n",
              "      <td>0</td>\n",
              "      <td>47.5944</td>\n",
              "      <td>-122.299</td>\n",
              "      <td>1020</td>\n",
              "      <td>2007</td>\n",
              "      <td>402101.0</td>\n",
              "    </tr>\n",
              "    <tr>\n",
              "      <th>21611</th>\n",
              "      <td>3</td>\n",
              "      <td>2.50</td>\n",
              "      <td>1600</td>\n",
              "      <td>2388</td>\n",
              "      <td>2.0</td>\n",
              "      <td>0</td>\n",
              "      <td>0</td>\n",
              "      <td>3</td>\n",
              "      <td>8</td>\n",
              "      <td>1600</td>\n",
              "      <td>0</td>\n",
              "      <td>2004</td>\n",
              "      <td>0</td>\n",
              "      <td>47.5345</td>\n",
              "      <td>-122.069</td>\n",
              "      <td>1410</td>\n",
              "      <td>1287</td>\n",
              "      <td>400000.0</td>\n",
              "    </tr>\n",
              "    <tr>\n",
              "      <th>21612</th>\n",
              "      <td>2</td>\n",
              "      <td>0.75</td>\n",
              "      <td>1020</td>\n",
              "      <td>1076</td>\n",
              "      <td>2.0</td>\n",
              "      <td>0</td>\n",
              "      <td>0</td>\n",
              "      <td>3</td>\n",
              "      <td>7</td>\n",
              "      <td>1020</td>\n",
              "      <td>0</td>\n",
              "      <td>2008</td>\n",
              "      <td>0</td>\n",
              "      <td>47.5941</td>\n",
              "      <td>-122.299</td>\n",
              "      <td>1020</td>\n",
              "      <td>1357</td>\n",
              "      <td>325000.0</td>\n",
              "    </tr>\n",
              "  </tbody>\n",
              "</table>\n",
              "<p>21613 rows × 18 columns</p>\n",
              "</div>\n",
              "      <button class=\"colab-df-convert\" onclick=\"convertToInteractive('df-2f2ba0fb-243f-4c9e-a7e0-ced3e69bd69f')\"\n",
              "              title=\"Convert this dataframe to an interactive table.\"\n",
              "              style=\"display:none;\">\n",
              "        \n",
              "  <svg xmlns=\"http://www.w3.org/2000/svg\" height=\"24px\"viewBox=\"0 0 24 24\"\n",
              "       width=\"24px\">\n",
              "    <path d=\"M0 0h24v24H0V0z\" fill=\"none\"/>\n",
              "    <path d=\"M18.56 5.44l.94 2.06.94-2.06 2.06-.94-2.06-.94-.94-2.06-.94 2.06-2.06.94zm-11 1L8.5 8.5l.94-2.06 2.06-.94-2.06-.94L8.5 2.5l-.94 2.06-2.06.94zm10 10l.94 2.06.94-2.06 2.06-.94-2.06-.94-.94-2.06-.94 2.06-2.06.94z\"/><path d=\"M17.41 7.96l-1.37-1.37c-.4-.4-.92-.59-1.43-.59-.52 0-1.04.2-1.43.59L10.3 9.45l-7.72 7.72c-.78.78-.78 2.05 0 2.83L4 21.41c.39.39.9.59 1.41.59.51 0 1.02-.2 1.41-.59l7.78-7.78 2.81-2.81c.8-.78.8-2.07 0-2.86zM5.41 20L4 18.59l7.72-7.72 1.47 1.35L5.41 20z\"/>\n",
              "  </svg>\n",
              "      </button>\n",
              "      \n",
              "  <style>\n",
              "    .colab-df-container {\n",
              "      display:flex;\n",
              "      flex-wrap:wrap;\n",
              "      gap: 12px;\n",
              "    }\n",
              "\n",
              "    .colab-df-convert {\n",
              "      background-color: #E8F0FE;\n",
              "      border: none;\n",
              "      border-radius: 50%;\n",
              "      cursor: pointer;\n",
              "      display: none;\n",
              "      fill: #1967D2;\n",
              "      height: 32px;\n",
              "      padding: 0 0 0 0;\n",
              "      width: 32px;\n",
              "    }\n",
              "\n",
              "    .colab-df-convert:hover {\n",
              "      background-color: #E2EBFA;\n",
              "      box-shadow: 0px 1px 2px rgba(60, 64, 67, 0.3), 0px 1px 3px 1px rgba(60, 64, 67, 0.15);\n",
              "      fill: #174EA6;\n",
              "    }\n",
              "\n",
              "    [theme=dark] .colab-df-convert {\n",
              "      background-color: #3B4455;\n",
              "      fill: #D2E3FC;\n",
              "    }\n",
              "\n",
              "    [theme=dark] .colab-df-convert:hover {\n",
              "      background-color: #434B5C;\n",
              "      box-shadow: 0px 1px 3px 1px rgba(0, 0, 0, 0.15);\n",
              "      filter: drop-shadow(0px 1px 2px rgba(0, 0, 0, 0.3));\n",
              "      fill: #FFFFFF;\n",
              "    }\n",
              "  </style>\n",
              "\n",
              "      <script>\n",
              "        const buttonEl =\n",
              "          document.querySelector('#df-2f2ba0fb-243f-4c9e-a7e0-ced3e69bd69f button.colab-df-convert');\n",
              "        buttonEl.style.display =\n",
              "          google.colab.kernel.accessAllowed ? 'block' : 'none';\n",
              "\n",
              "        async function convertToInteractive(key) {\n",
              "          const element = document.querySelector('#df-2f2ba0fb-243f-4c9e-a7e0-ced3e69bd69f');\n",
              "          const dataTable =\n",
              "            await google.colab.kernel.invokeFunction('convertToInteractive',\n",
              "                                                     [key], {});\n",
              "          if (!dataTable) return;\n",
              "\n",
              "          const docLinkHtml = 'Like what you see? Visit the ' +\n",
              "            '<a target=\"_blank\" href=https://colab.research.google.com/notebooks/data_table.ipynb>data table notebook</a>'\n",
              "            + ' to learn more about interactive tables.';\n",
              "          element.innerHTML = '';\n",
              "          dataTable['output_type'] = 'display_data';\n",
              "          await google.colab.output.renderOutput(dataTable, element);\n",
              "          const docLink = document.createElement('div');\n",
              "          docLink.innerHTML = docLinkHtml;\n",
              "          element.appendChild(docLink);\n",
              "        }\n",
              "      </script>\n",
              "    </div>\n",
              "  </div>\n",
              "  "
            ]
          },
          "metadata": {},
          "execution_count": 14
        }
      ],
      "source": [
        "rel_ft = house[['bedrooms', 'bathrooms', 'sqft_living', 'sqft_lot', 'floors', 'waterfront',\n",
        "                'view', 'condition', 'grade', 'sqft_above', 'sqft_basement', 'yr_built', \n",
        "                'yr_renovated', 'lat', 'long', 'sqft_living15', 'sqft_lot15', 'price']]\n",
        "rel_ft"
      ]
    },
    {
      "cell_type": "markdown",
      "metadata": {
        "id": "IV2Hx4gFupuq"
      },
      "source": [
        "**From the dataset we can see that:**\n",
        "\n",
        "bedrooms is catigorical\n",
        "bathrooms is catigorical     \n",
        "sqft_living is numerical  \n",
        "sqft_lot is numerical  \n",
        "floors is catigorical          \n",
        "waterfront is catigorical        \n",
        "view  is catigorical          \n",
        "condition is catigorical       \n",
        "grade is catigorical     \n",
        "sqft_above is numerical    \n",
        "sqft_basement is numerical  \n",
        "yr_built is numerical  \n",
        "yr_renovated is catigorical    \n",
        "lat is numerical         \n",
        "long is numerical     \n",
        "sqft_living15 is numerical  \n",
        "sqft_lot15  is catigorical     \n",
        "price is numerical       \n"
      ]
    },
    {
      "cell_type": "markdown",
      "metadata": {
        "id": "9u3w2-7DTYTP"
      },
      "source": [
        "Getting the catigory of dataset"
      ]
    },
    {
      "cell_type": "code",
      "execution_count": 15,
      "metadata": {
        "id": "b7rDqoBxDD9A"
      },
      "outputs": [],
      "source": [
        "#Splitting out data into train and test"
      ]
    },
    {
      "cell_type": "code",
      "execution_count": 16,
      "metadata": {
        "id": "3CHNgY3pDVHt"
      },
      "outputs": [],
      "source": [
        "x = house[['bedrooms', 'bathrooms', 'sqft_living', 'sqft_lot', 'floors', 'waterfront',\n",
        "                'view', 'condition', 'grade', 'sqft_above', 'sqft_basement', 'yr_built', \n",
        "                'yr_renovated', 'lat', 'long', 'sqft_living15', 'sqft_lot15']]\n",
        "\n",
        "y = house['price']"
      ]
    },
    {
      "cell_type": "code",
      "execution_count": 17,
      "metadata": {
        "id": "gChFLgG5Dm3-"
      },
      "outputs": [],
      "source": [
        "sc = StandardScaler()\n",
        "trans = sc.fit_transform(x)"
      ]
    },
    {
      "cell_type": "code",
      "execution_count": 18,
      "metadata": {
        "colab": {
          "base_uri": "https://localhost:8080/"
        },
        "id": "wyHvZR4aD0lS",
        "outputId": "f0dc3a9d-77d6-4b5c-8440-225126338cb6"
      },
      "outputs": [
        {
          "output_type": "execute_result",
          "data": {
            "text/plain": [
              "array([[-0.39873715, -1.44746357, -0.97983502, ..., -0.30607896,\n",
              "        -0.9433552 , -0.26071541],\n",
              "       [-0.39873715,  0.1756067 ,  0.53363434, ..., -0.74634143,\n",
              "        -0.43268619, -0.18786773],\n",
              "       [-1.47395936, -1.44746357, -1.42625404, ..., -0.13565477,\n",
              "         1.07013975, -0.17237524],\n",
              "       ...,\n",
              "       [-1.47395936, -1.77207762, -1.15404732, ..., -0.60432128,\n",
              "        -1.41025258, -0.39414129],\n",
              "       [-0.39873715,  0.50022075, -0.52252773, ...,  1.02891048,\n",
              "        -0.8412214 , -0.42051149],\n",
              "       [-1.47395936, -1.77207762, -1.15404732, ..., -0.60432128,\n",
              "        -1.41025258, -0.41794772]])"
            ]
          },
          "metadata": {},
          "execution_count": 18
        }
      ],
      "source": [
        "trans"
      ]
    },
    {
      "cell_type": "code",
      "execution_count": 19,
      "metadata": {
        "id": "BAsMTFO-mB7c"
      },
      "outputs": [],
      "source": [
        "#Transforming our data using standardscaler method"
      ]
    },
    {
      "cell_type": "code",
      "execution_count": 20,
      "metadata": {
        "id": "nFMMO-xTlymp"
      },
      "outputs": [],
      "source": [
        "sc = StandardScaler()\n",
        "trans = sc.fit_transform(rel_ft)"
      ]
    },
    {
      "cell_type": "code",
      "execution_count": 21,
      "metadata": {
        "colab": {
          "base_uri": "https://localhost:8080/",
          "height": 487
        },
        "id": "Hbs124z8lKM3",
        "outputId": "4aa88a6c-7384-4b73-8c23-3566365c6134"
      },
      "outputs": [
        {
          "output_type": "execute_result",
          "data": {
            "text/plain": [
              "             0         1         2         3         4         5         6   \\\n",
              "0     -0.398737 -1.447464 -0.979835 -0.228321 -0.915427 -0.087173 -0.305759   \n",
              "1     -0.398737  0.175607  0.533634 -0.189885  0.936506 -0.087173 -0.305759   \n",
              "2     -1.473959 -1.447464 -1.426254 -0.123298 -0.915427 -0.087173 -0.305759   \n",
              "3      0.676485  1.149449 -0.130550 -0.244014 -0.915427 -0.087173 -0.305759   \n",
              "4     -0.398737 -0.149007 -0.435422 -0.169653 -0.915427 -0.087173 -0.305759   \n",
              "...         ...       ...       ...       ...       ...       ...       ...   \n",
              "21608 -0.398737  0.500221 -0.598746 -0.337424  2.788439 -0.087173 -0.305759   \n",
              "21609  0.676485  0.500221  0.250539 -0.224386  0.936506 -0.087173 -0.305759   \n",
              "21610 -1.473959 -1.772078 -1.154047 -0.332137  0.936506 -0.087173 -0.305759   \n",
              "21611 -0.398737  0.500221 -0.522528 -0.307076  0.936506 -0.087173 -0.305759   \n",
              "21612 -1.473959 -1.772078 -1.154047 -0.338752  0.936506 -0.087173 -0.305759   \n",
              "\n",
              "             7         8         9         10        11        12        13  \\\n",
              "0     -0.629187 -0.558836 -0.734708 -0.658681 -0.544898 -0.210128 -0.352572   \n",
              "1     -0.629187 -0.558836  0.460841  0.245141 -0.681079  4.746678  1.161568   \n",
              "2     -0.629187 -1.409587 -1.229834 -0.658681 -1.293892 -0.210128  1.283537   \n",
              "3      2.444294 -0.558836 -0.891699  1.397515 -0.204446 -0.210128 -0.283288   \n",
              "4     -0.629187  0.291916 -0.130895 -0.658681  0.544548 -0.210128  0.409550   \n",
              "...         ...       ...       ...       ...       ...       ...       ...   \n",
              "21608 -0.629187  0.291916 -0.312039 -0.658681  1.293542 -0.210128  1.004958   \n",
              "21609 -0.629187  0.291916  0.629908 -0.658681  1.463768 -0.210128 -0.356180   \n",
              "21610 -0.629187 -0.558836 -0.927928 -0.658681  1.293542 -0.210128  0.247888   \n",
              "21611 -0.629187  0.291916 -0.227505 -0.658681  1.123316 -0.210128 -0.184414   \n",
              "21612 -0.629187 -0.558836 -0.927928 -0.658681  1.259497 -0.210128  0.245723   \n",
              "\n",
              "             14        15        16        17  \n",
              "0     -0.306079 -0.943355 -0.260715 -0.866717  \n",
              "1     -0.746341 -0.432686 -0.187868 -0.005688  \n",
              "2     -0.135655  1.070140 -0.172375 -0.980849  \n",
              "3     -1.271816 -0.914174 -0.284522  0.174090  \n",
              "4      1.199335 -0.272190 -0.192849 -0.081958  \n",
              "...         ...       ...       ...       ...  \n",
              "21608 -0.938069 -0.666135 -0.412381 -0.490545  \n",
              "21609 -1.051685 -0.228419 -0.203946 -0.381588  \n",
              "21610 -0.604321 -1.410253 -0.394141 -0.375865  \n",
              "21611  1.028910 -0.841221 -0.420511 -0.381588  \n",
              "21612 -0.604321 -1.410253 -0.417948 -0.585882  \n",
              "\n",
              "[21613 rows x 18 columns]"
            ],
            "text/html": [
              "\n",
              "  <div id=\"df-14a0c2ad-ed7e-407c-a186-190b80dc8442\">\n",
              "    <div class=\"colab-df-container\">\n",
              "      <div>\n",
              "<style scoped>\n",
              "    .dataframe tbody tr th:only-of-type {\n",
              "        vertical-align: middle;\n",
              "    }\n",
              "\n",
              "    .dataframe tbody tr th {\n",
              "        vertical-align: top;\n",
              "    }\n",
              "\n",
              "    .dataframe thead th {\n",
              "        text-align: right;\n",
              "    }\n",
              "</style>\n",
              "<table border=\"1\" class=\"dataframe\">\n",
              "  <thead>\n",
              "    <tr style=\"text-align: right;\">\n",
              "      <th></th>\n",
              "      <th>0</th>\n",
              "      <th>1</th>\n",
              "      <th>2</th>\n",
              "      <th>3</th>\n",
              "      <th>4</th>\n",
              "      <th>5</th>\n",
              "      <th>6</th>\n",
              "      <th>7</th>\n",
              "      <th>8</th>\n",
              "      <th>9</th>\n",
              "      <th>10</th>\n",
              "      <th>11</th>\n",
              "      <th>12</th>\n",
              "      <th>13</th>\n",
              "      <th>14</th>\n",
              "      <th>15</th>\n",
              "      <th>16</th>\n",
              "      <th>17</th>\n",
              "    </tr>\n",
              "  </thead>\n",
              "  <tbody>\n",
              "    <tr>\n",
              "      <th>0</th>\n",
              "      <td>-0.398737</td>\n",
              "      <td>-1.447464</td>\n",
              "      <td>-0.979835</td>\n",
              "      <td>-0.228321</td>\n",
              "      <td>-0.915427</td>\n",
              "      <td>-0.087173</td>\n",
              "      <td>-0.305759</td>\n",
              "      <td>-0.629187</td>\n",
              "      <td>-0.558836</td>\n",
              "      <td>-0.734708</td>\n",
              "      <td>-0.658681</td>\n",
              "      <td>-0.544898</td>\n",
              "      <td>-0.210128</td>\n",
              "      <td>-0.352572</td>\n",
              "      <td>-0.306079</td>\n",
              "      <td>-0.943355</td>\n",
              "      <td>-0.260715</td>\n",
              "      <td>-0.866717</td>\n",
              "    </tr>\n",
              "    <tr>\n",
              "      <th>1</th>\n",
              "      <td>-0.398737</td>\n",
              "      <td>0.175607</td>\n",
              "      <td>0.533634</td>\n",
              "      <td>-0.189885</td>\n",
              "      <td>0.936506</td>\n",
              "      <td>-0.087173</td>\n",
              "      <td>-0.305759</td>\n",
              "      <td>-0.629187</td>\n",
              "      <td>-0.558836</td>\n",
              "      <td>0.460841</td>\n",
              "      <td>0.245141</td>\n",
              "      <td>-0.681079</td>\n",
              "      <td>4.746678</td>\n",
              "      <td>1.161568</td>\n",
              "      <td>-0.746341</td>\n",
              "      <td>-0.432686</td>\n",
              "      <td>-0.187868</td>\n",
              "      <td>-0.005688</td>\n",
              "    </tr>\n",
              "    <tr>\n",
              "      <th>2</th>\n",
              "      <td>-1.473959</td>\n",
              "      <td>-1.447464</td>\n",
              "      <td>-1.426254</td>\n",
              "      <td>-0.123298</td>\n",
              "      <td>-0.915427</td>\n",
              "      <td>-0.087173</td>\n",
              "      <td>-0.305759</td>\n",
              "      <td>-0.629187</td>\n",
              "      <td>-1.409587</td>\n",
              "      <td>-1.229834</td>\n",
              "      <td>-0.658681</td>\n",
              "      <td>-1.293892</td>\n",
              "      <td>-0.210128</td>\n",
              "      <td>1.283537</td>\n",
              "      <td>-0.135655</td>\n",
              "      <td>1.070140</td>\n",
              "      <td>-0.172375</td>\n",
              "      <td>-0.980849</td>\n",
              "    </tr>\n",
              "    <tr>\n",
              "      <th>3</th>\n",
              "      <td>0.676485</td>\n",
              "      <td>1.149449</td>\n",
              "      <td>-0.130550</td>\n",
              "      <td>-0.244014</td>\n",
              "      <td>-0.915427</td>\n",
              "      <td>-0.087173</td>\n",
              "      <td>-0.305759</td>\n",
              "      <td>2.444294</td>\n",
              "      <td>-0.558836</td>\n",
              "      <td>-0.891699</td>\n",
              "      <td>1.397515</td>\n",
              "      <td>-0.204446</td>\n",
              "      <td>-0.210128</td>\n",
              "      <td>-0.283288</td>\n",
              "      <td>-1.271816</td>\n",
              "      <td>-0.914174</td>\n",
              "      <td>-0.284522</td>\n",
              "      <td>0.174090</td>\n",
              "    </tr>\n",
              "    <tr>\n",
              "      <th>4</th>\n",
              "      <td>-0.398737</td>\n",
              "      <td>-0.149007</td>\n",
              "      <td>-0.435422</td>\n",
              "      <td>-0.169653</td>\n",
              "      <td>-0.915427</td>\n",
              "      <td>-0.087173</td>\n",
              "      <td>-0.305759</td>\n",
              "      <td>-0.629187</td>\n",
              "      <td>0.291916</td>\n",
              "      <td>-0.130895</td>\n",
              "      <td>-0.658681</td>\n",
              "      <td>0.544548</td>\n",
              "      <td>-0.210128</td>\n",
              "      <td>0.409550</td>\n",
              "      <td>1.199335</td>\n",
              "      <td>-0.272190</td>\n",
              "      <td>-0.192849</td>\n",
              "      <td>-0.081958</td>\n",
              "    </tr>\n",
              "    <tr>\n",
              "      <th>...</th>\n",
              "      <td>...</td>\n",
              "      <td>...</td>\n",
              "      <td>...</td>\n",
              "      <td>...</td>\n",
              "      <td>...</td>\n",
              "      <td>...</td>\n",
              "      <td>...</td>\n",
              "      <td>...</td>\n",
              "      <td>...</td>\n",
              "      <td>...</td>\n",
              "      <td>...</td>\n",
              "      <td>...</td>\n",
              "      <td>...</td>\n",
              "      <td>...</td>\n",
              "      <td>...</td>\n",
              "      <td>...</td>\n",
              "      <td>...</td>\n",
              "      <td>...</td>\n",
              "    </tr>\n",
              "    <tr>\n",
              "      <th>21608</th>\n",
              "      <td>-0.398737</td>\n",
              "      <td>0.500221</td>\n",
              "      <td>-0.598746</td>\n",
              "      <td>-0.337424</td>\n",
              "      <td>2.788439</td>\n",
              "      <td>-0.087173</td>\n",
              "      <td>-0.305759</td>\n",
              "      <td>-0.629187</td>\n",
              "      <td>0.291916</td>\n",
              "      <td>-0.312039</td>\n",
              "      <td>-0.658681</td>\n",
              "      <td>1.293542</td>\n",
              "      <td>-0.210128</td>\n",
              "      <td>1.004958</td>\n",
              "      <td>-0.938069</td>\n",
              "      <td>-0.666135</td>\n",
              "      <td>-0.412381</td>\n",
              "      <td>-0.490545</td>\n",
              "    </tr>\n",
              "    <tr>\n",
              "      <th>21609</th>\n",
              "      <td>0.676485</td>\n",
              "      <td>0.500221</td>\n",
              "      <td>0.250539</td>\n",
              "      <td>-0.224386</td>\n",
              "      <td>0.936506</td>\n",
              "      <td>-0.087173</td>\n",
              "      <td>-0.305759</td>\n",
              "      <td>-0.629187</td>\n",
              "      <td>0.291916</td>\n",
              "      <td>0.629908</td>\n",
              "      <td>-0.658681</td>\n",
              "      <td>1.463768</td>\n",
              "      <td>-0.210128</td>\n",
              "      <td>-0.356180</td>\n",
              "      <td>-1.051685</td>\n",
              "      <td>-0.228419</td>\n",
              "      <td>-0.203946</td>\n",
              "      <td>-0.381588</td>\n",
              "    </tr>\n",
              "    <tr>\n",
              "      <th>21610</th>\n",
              "      <td>-1.473959</td>\n",
              "      <td>-1.772078</td>\n",
              "      <td>-1.154047</td>\n",
              "      <td>-0.332137</td>\n",
              "      <td>0.936506</td>\n",
              "      <td>-0.087173</td>\n",
              "      <td>-0.305759</td>\n",
              "      <td>-0.629187</td>\n",
              "      <td>-0.558836</td>\n",
              "      <td>-0.927928</td>\n",
              "      <td>-0.658681</td>\n",
              "      <td>1.293542</td>\n",
              "      <td>-0.210128</td>\n",
              "      <td>0.247888</td>\n",
              "      <td>-0.604321</td>\n",
              "      <td>-1.410253</td>\n",
              "      <td>-0.394141</td>\n",
              "      <td>-0.375865</td>\n",
              "    </tr>\n",
              "    <tr>\n",
              "      <th>21611</th>\n",
              "      <td>-0.398737</td>\n",
              "      <td>0.500221</td>\n",
              "      <td>-0.522528</td>\n",
              "      <td>-0.307076</td>\n",
              "      <td>0.936506</td>\n",
              "      <td>-0.087173</td>\n",
              "      <td>-0.305759</td>\n",
              "      <td>-0.629187</td>\n",
              "      <td>0.291916</td>\n",
              "      <td>-0.227505</td>\n",
              "      <td>-0.658681</td>\n",
              "      <td>1.123316</td>\n",
              "      <td>-0.210128</td>\n",
              "      <td>-0.184414</td>\n",
              "      <td>1.028910</td>\n",
              "      <td>-0.841221</td>\n",
              "      <td>-0.420511</td>\n",
              "      <td>-0.381588</td>\n",
              "    </tr>\n",
              "    <tr>\n",
              "      <th>21612</th>\n",
              "      <td>-1.473959</td>\n",
              "      <td>-1.772078</td>\n",
              "      <td>-1.154047</td>\n",
              "      <td>-0.338752</td>\n",
              "      <td>0.936506</td>\n",
              "      <td>-0.087173</td>\n",
              "      <td>-0.305759</td>\n",
              "      <td>-0.629187</td>\n",
              "      <td>-0.558836</td>\n",
              "      <td>-0.927928</td>\n",
              "      <td>-0.658681</td>\n",
              "      <td>1.259497</td>\n",
              "      <td>-0.210128</td>\n",
              "      <td>0.245723</td>\n",
              "      <td>-0.604321</td>\n",
              "      <td>-1.410253</td>\n",
              "      <td>-0.417948</td>\n",
              "      <td>-0.585882</td>\n",
              "    </tr>\n",
              "  </tbody>\n",
              "</table>\n",
              "<p>21613 rows × 18 columns</p>\n",
              "</div>\n",
              "      <button class=\"colab-df-convert\" onclick=\"convertToInteractive('df-14a0c2ad-ed7e-407c-a186-190b80dc8442')\"\n",
              "              title=\"Convert this dataframe to an interactive table.\"\n",
              "              style=\"display:none;\">\n",
              "        \n",
              "  <svg xmlns=\"http://www.w3.org/2000/svg\" height=\"24px\"viewBox=\"0 0 24 24\"\n",
              "       width=\"24px\">\n",
              "    <path d=\"M0 0h24v24H0V0z\" fill=\"none\"/>\n",
              "    <path d=\"M18.56 5.44l.94 2.06.94-2.06 2.06-.94-2.06-.94-.94-2.06-.94 2.06-2.06.94zm-11 1L8.5 8.5l.94-2.06 2.06-.94-2.06-.94L8.5 2.5l-.94 2.06-2.06.94zm10 10l.94 2.06.94-2.06 2.06-.94-2.06-.94-.94-2.06-.94 2.06-2.06.94z\"/><path d=\"M17.41 7.96l-1.37-1.37c-.4-.4-.92-.59-1.43-.59-.52 0-1.04.2-1.43.59L10.3 9.45l-7.72 7.72c-.78.78-.78 2.05 0 2.83L4 21.41c.39.39.9.59 1.41.59.51 0 1.02-.2 1.41-.59l7.78-7.78 2.81-2.81c.8-.78.8-2.07 0-2.86zM5.41 20L4 18.59l7.72-7.72 1.47 1.35L5.41 20z\"/>\n",
              "  </svg>\n",
              "      </button>\n",
              "      \n",
              "  <style>\n",
              "    .colab-df-container {\n",
              "      display:flex;\n",
              "      flex-wrap:wrap;\n",
              "      gap: 12px;\n",
              "    }\n",
              "\n",
              "    .colab-df-convert {\n",
              "      background-color: #E8F0FE;\n",
              "      border: none;\n",
              "      border-radius: 50%;\n",
              "      cursor: pointer;\n",
              "      display: none;\n",
              "      fill: #1967D2;\n",
              "      height: 32px;\n",
              "      padding: 0 0 0 0;\n",
              "      width: 32px;\n",
              "    }\n",
              "\n",
              "    .colab-df-convert:hover {\n",
              "      background-color: #E2EBFA;\n",
              "      box-shadow: 0px 1px 2px rgba(60, 64, 67, 0.3), 0px 1px 3px 1px rgba(60, 64, 67, 0.15);\n",
              "      fill: #174EA6;\n",
              "    }\n",
              "\n",
              "    [theme=dark] .colab-df-convert {\n",
              "      background-color: #3B4455;\n",
              "      fill: #D2E3FC;\n",
              "    }\n",
              "\n",
              "    [theme=dark] .colab-df-convert:hover {\n",
              "      background-color: #434B5C;\n",
              "      box-shadow: 0px 1px 3px 1px rgba(0, 0, 0, 0.15);\n",
              "      filter: drop-shadow(0px 1px 2px rgba(0, 0, 0, 0.3));\n",
              "      fill: #FFFFFF;\n",
              "    }\n",
              "  </style>\n",
              "\n",
              "      <script>\n",
              "        const buttonEl =\n",
              "          document.querySelector('#df-14a0c2ad-ed7e-407c-a186-190b80dc8442 button.colab-df-convert');\n",
              "        buttonEl.style.display =\n",
              "          google.colab.kernel.accessAllowed ? 'block' : 'none';\n",
              "\n",
              "        async function convertToInteractive(key) {\n",
              "          const element = document.querySelector('#df-14a0c2ad-ed7e-407c-a186-190b80dc8442');\n",
              "          const dataTable =\n",
              "            await google.colab.kernel.invokeFunction('convertToInteractive',\n",
              "                                                     [key], {});\n",
              "          if (!dataTable) return;\n",
              "\n",
              "          const docLinkHtml = 'Like what you see? Visit the ' +\n",
              "            '<a target=\"_blank\" href=https://colab.research.google.com/notebooks/data_table.ipynb>data table notebook</a>'\n",
              "            + ' to learn more about interactive tables.';\n",
              "          element.innerHTML = '';\n",
              "          dataTable['output_type'] = 'display_data';\n",
              "          await google.colab.output.renderOutput(dataTable, element);\n",
              "          const docLink = document.createElement('div');\n",
              "          docLink.innerHTML = docLinkHtml;\n",
              "          element.appendChild(docLink);\n",
              "        }\n",
              "      </script>\n",
              "    </div>\n",
              "  </div>\n",
              "  "
            ]
          },
          "metadata": {},
          "execution_count": 21
        }
      ],
      "source": [
        "trans_df = pd.DataFrame(trans)\n",
        "trans_df"
      ]
    },
    {
      "cell_type": "code",
      "execution_count": 22,
      "metadata": {
        "id": "9o494MbJmHZh"
      },
      "outputs": [],
      "source": [
        "x = trans_df.iloc[:, :-1]\n",
        "y = trans_df.iloc[:, -1]\n"
      ]
    },
    {
      "cell_type": "code",
      "execution_count": 23,
      "metadata": {
        "id": "vnRO6Qx2YYAS"
      },
      "outputs": [],
      "source": [
        "x_train, x_test, y_train, y_test = train_test_split(x, y, test_size = .2)"
      ]
    },
    {
      "cell_type": "markdown",
      "metadata": {
        "id": "btIBk0gC4t_W"
      },
      "source": [
        "**Building model - Multiple linear regression model**"
      ]
    },
    {
      "cell_type": "code",
      "execution_count": 24,
      "metadata": {
        "colab": {
          "base_uri": "https://localhost:8080/"
        },
        "id": "T6daLK8Ky10j",
        "outputId": "71aade57-3a71-46dd-8a5e-b1844c4052db"
      },
      "outputs": [
        {
          "output_type": "execute_result",
          "data": {
            "text/plain": [
              "array([ 0.58044966, -0.61730192, -0.43151871, ...,  2.54011245,\n",
              "       -0.23457062, -0.13610903])"
            ]
          },
          "metadata": {},
          "execution_count": 24
        }
      ],
      "source": [
        "# Building model - Multiple linear regression model\n",
        "\n",
        "linear_model = LinearRegression()\n",
        "linear_model.fit(x_train, y_train)\n",
        "\n",
        "target = linear_model.predict(x_test)\n",
        "\n",
        "target"
      ]
    },
    {
      "cell_type": "code",
      "execution_count": 25,
      "metadata": {
        "colab": {
          "base_uri": "https://localhost:8080/"
        },
        "id": "8KsYp4T30j2U",
        "outputId": "51f33ccf-3702-451e-cf29-c6eb4545f1c7"
      },
      "outputs": [
        {
          "output_type": "stream",
          "name": "stdout",
          "text": [
            "0.27763348921342546\n",
            "0.7144836381675124\n"
          ]
        }
      ],
      "source": [
        "print(mean_squared_error(y_test, target))\n",
        "\n",
        "print(metrics.r2_score(y_test, target))"
      ]
    },
    {
      "cell_type": "markdown",
      "metadata": {
        "id": "qdGJPSWG5GLe"
      },
      "source": [
        "**Simple Linear Regression**"
      ]
    },
    {
      "cell_type": "code",
      "execution_count": 26,
      "metadata": {
        "id": "wbxzrpMB-5lB"
      },
      "outputs": [],
      "source": [
        "#using sqft_living to predict price\n",
        "\n",
        "\n",
        "x_sqft = trans_df.iloc[:, 2]\n",
        "y_sqft = trans_df.iloc[:, -1]"
      ]
    },
    {
      "cell_type": "code",
      "execution_count": 27,
      "metadata": {
        "id": "1Ff0zBYS_euo"
      },
      "outputs": [],
      "source": [
        "x_train, x_test, y_train, y_test = train_test_split(x_sqft, y_sqft, test_size = .2)"
      ]
    },
    {
      "cell_type": "code",
      "execution_count": 28,
      "metadata": {
        "id": "gC-GR6Az_u7U"
      },
      "outputs": [],
      "source": [
        "x_train = np.array(x_train).reshape(-1,1) \n",
        "x_test = np.array(x_test).reshape(-1,1)"
      ]
    },
    {
      "cell_type": "code",
      "execution_count": 29,
      "metadata": {
        "id": "3alss0ldAKfY"
      },
      "outputs": [],
      "source": [
        "#Building model -Simple linear regression model betwen sqft_living\n",
        "\n",
        "linear_model = LinearRegression()\n",
        "\n",
        "linear_model.fit(x_train, y_train) \n",
        "\n",
        "target = linear_model.predict(x_test)\n"
      ]
    },
    {
      "cell_type": "code",
      "execution_count": 30,
      "metadata": {
        "colab": {
          "base_uri": "https://localhost:8080/"
        },
        "id": "u2XhJ08nByzq",
        "outputId": "4fb4a4bd-91df-41be-f7d2-ff2191a5dfac"
      },
      "outputs": [
        {
          "output_type": "stream",
          "name": "stdout",
          "text": [
            "MSE: 0.4853045714695266\n",
            "R squared: 0.5024242695138096\n"
          ]
        }
      ],
      "source": [
        "print('MSE:', mean_squared_error(y_test, target))\n",
        "\n",
        "print('R squared:', metrics.r2_score(y_test, target))"
      ]
    },
    {
      "cell_type": "code",
      "execution_count": 31,
      "metadata": {
        "id": "l9CuzbEITPOr"
      },
      "outputs": [],
      "source": [
        "#using floors to predict price\n",
        "\n",
        "x_floors = trans_df.iloc[:, 4]\n",
        "y_floors = trans_df.iloc[:, -1]"
      ]
    },
    {
      "cell_type": "code",
      "execution_count": 32,
      "metadata": {
        "id": "psMNFoNWUUQf"
      },
      "outputs": [],
      "source": [
        "x_train_floors, x_test_floors, y_train_floors, y_test_floors = train_test_split(x_floors, y_floors, test_size = .2)"
      ]
    },
    {
      "cell_type": "code",
      "execution_count": 33,
      "metadata": {
        "id": "I9wrwZoZUcZE"
      },
      "outputs": [],
      "source": [
        "x_train_floors = np.array(x_train_floors).reshape(-1,1) \n",
        "x_test_floors = np.array(x_test_floors).reshape(-1,1)"
      ]
    },
    {
      "cell_type": "code",
      "execution_count": 34,
      "metadata": {
        "id": "lsEE6SXkVYkr"
      },
      "outputs": [],
      "source": [
        "#Building model -Simple linear regression model between floors and price\n",
        "\n",
        "linear_model = LinearRegression()\n",
        "\n",
        "linear_model.fit(x_train_floors, y_train_floors) \n",
        "\n",
        "target = linear_model.predict(x_test_floors)"
      ]
    },
    {
      "cell_type": "code",
      "execution_count": 35,
      "metadata": {
        "colab": {
          "base_uri": "https://localhost:8080/"
        },
        "id": "J-LS678EVzNL",
        "outputId": "3b3805c8-e366-4715-b166-76e5840b28e6"
      },
      "outputs": [
        {
          "output_type": "stream",
          "name": "stdout",
          "text": [
            "MSE: 0.9379730148007016\n",
            "R squared: 0.06083923709852834\n"
          ]
        }
      ],
      "source": [
        "print('MSE:', mean_squared_error(y_test_floors, target))\n",
        "\n",
        "print('R squared:', metrics.r2_score(y_test_floors, target))"
      ]
    },
    {
      "cell_type": "code",
      "execution_count": 36,
      "metadata": {
        "id": "lV064jGqvVie"
      },
      "outputs": [],
      "source": [
        "#using sqft_above to predict price\n",
        "\n",
        "x_sqft_above = trans_df.iloc[:, 9]\n",
        "y_sqft_above = trans_df.iloc[:, -1]"
      ]
    },
    {
      "cell_type": "code",
      "execution_count": 37,
      "metadata": {
        "id": "HG67hgiGzMKM"
      },
      "outputs": [],
      "source": [
        "x_train_sqft_above, x_test_sqft_above, y_train_sqft_above, y_test_sqft_above = train_test_split(x_sqft_above, y_sqft_above, test_size = .2)"
      ]
    },
    {
      "cell_type": "code",
      "execution_count": 38,
      "metadata": {
        "id": "jRbQxRDpzniM"
      },
      "outputs": [],
      "source": [
        "x_train_sqft_above = np.array(x_train_sqft_above).reshape(-1,1) \n",
        "x_test_sqft_above = np.array(x_test_sqft_above).reshape(-1,1)"
      ]
    },
    {
      "cell_type": "code",
      "execution_count": 39,
      "metadata": {
        "id": "5H9ClYVYz_Bo"
      },
      "outputs": [],
      "source": [
        "#Building model -Simple linear regression model between sqft_above and price\n",
        "\n",
        "linear_model = LinearRegression()\n",
        "\n",
        "linear_model.fit(x_train_sqft_above, y_train_sqft_above) \n",
        "\n",
        "target = linear_model.predict(x_test_sqft_above)"
      ]
    },
    {
      "cell_type": "code",
      "execution_count": 40,
      "metadata": {
        "colab": {
          "base_uri": "https://localhost:8080/"
        },
        "id": "i4pUeAOP0MT2",
        "outputId": "08f12b8e-0d96-46df-8c0f-43c83d6a8371"
      },
      "outputs": [
        {
          "output_type": "stream",
          "name": "stdout",
          "text": [
            "MSE: 0.6261087769964626\n",
            "R squared: 0.3703186452097852\n"
          ]
        }
      ],
      "source": [
        "print('MSE:', mean_squared_error(y_test_sqft_above, target))\n",
        "\n",
        "print('R squared:', metrics.r2_score(y_test_sqft_above, target))"
      ]
    },
    {
      "cell_type": "code",
      "source": [
        "#using sqft_lot to predict price\n",
        "\n",
        "x_lot = trans_df.iloc[:, 3]\n",
        "y_lot = trans_df.iloc[:, -1]"
      ],
      "metadata": {
        "id": "B7wZaJNiXnvt"
      },
      "execution_count": 110,
      "outputs": []
    },
    {
      "cell_type": "code",
      "source": [
        "x_train_lot, x_test_lot, y_train_lot, y_test_lot = train_test_split(x_lot, y_lot, test_size = .2)"
      ],
      "metadata": {
        "id": "y5FT-Y3cXzmz"
      },
      "execution_count": 111,
      "outputs": []
    },
    {
      "cell_type": "code",
      "source": [
        "x_train_lot = np.array(x_train_lot).reshape(-1,1) \n",
        "x_test_lot = np.array(x_test_lot).reshape(-1,1)"
      ],
      "metadata": {
        "id": "vm38x2TkX-aA"
      },
      "execution_count": 112,
      "outputs": []
    },
    {
      "cell_type": "code",
      "source": [
        "#Building model -Simple linear regression model between sqft_lot and price\n",
        "\n",
        "linear_model = LinearRegression()\n",
        "\n",
        "linear_model.fit(x_train_lot, y_train_lot) \n",
        "\n",
        "target = linear_model.predict(x_test_lot)"
      ],
      "metadata": {
        "id": "IxMYwU4dY0MK"
      },
      "execution_count": 113,
      "outputs": []
    },
    {
      "cell_type": "code",
      "source": [
        "print('MSE:', mean_squared_error(y_test_lot, target))\n",
        "\n",
        "print('R squared:', metrics.r2_score(y_test_lot, target))"
      ],
      "metadata": {
        "colab": {
          "base_uri": "https://localhost:8080/"
        },
        "id": "UuRiclkwZBWJ",
        "outputId": "a917db12-4eec-463a-fb51-48450c9afa15"
      },
      "execution_count": 114,
      "outputs": [
        {
          "output_type": "stream",
          "name": "stdout",
          "text": [
            "MSE: 1.0123715969963085\n",
            "R squared: 0.010303356980170264\n"
          ]
        }
      ]
    },
    {
      "cell_type": "markdown",
      "metadata": {
        "id": "zuRcYccTAjks"
      },
      "source": [
        "**Polynomial Regression**"
      ]
    },
    {
      "cell_type": "code",
      "execution_count": 115,
      "metadata": {
        "id": "HXeZztnEAs7O"
      },
      "outputs": [],
      "source": [
        "from sklearn.preprocessing import PolynomialFeatures\n",
        "poly = PolynomialFeatures(degree = 4)"
      ]
    },
    {
      "cell_type": "code",
      "source": [
        "x_poly_lot = poly.fit_transform(x_test_lot)\n",
        "linear_reg = LinearRegression()\n",
        "linear_reg.fit(x_poly_lot, y_test_lot)"
      ],
      "metadata": {
        "colab": {
          "base_uri": "https://localhost:8080/"
        },
        "id": "eysActOtoLr-",
        "outputId": "6ebe480b-de85-40ec-d8f8-b72c7cf18cfa"
      },
      "execution_count": 116,
      "outputs": [
        {
          "output_type": "execute_result",
          "data": {
            "text/plain": [
              "LinearRegression()"
            ]
          },
          "metadata": {},
          "execution_count": 116
        }
      ]
    },
    {
      "cell_type": "code",
      "source": [
        "print('Intercept constant for our linear model:', linear_model.intercept_)\n",
        "print('coefficient of x for our linear model:', linear_model.coef_)"
      ],
      "metadata": {
        "colab": {
          "base_uri": "https://localhost:8080/"
        },
        "id": "1SR-dPDnMBLe",
        "outputId": "a4cb02a7-3720-4ca0-ddf5-6d7e4d762498"
      },
      "execution_count": 117,
      "outputs": [
        {
          "output_type": "stream",
          "name": "stdout",
          "text": [
            "Intercept constant for our linear model: -7.319469627286169e-05\n",
            "coefficient of x for our linear model: [0.08915247]\n"
          ]
        }
      ]
    },
    {
      "cell_type": "code",
      "source": [
        "y_pred_lot = linear_model.predict(x_test_lot)\n",
        "y_pred_lot"
      ],
      "metadata": {
        "colab": {
          "base_uri": "https://localhost:8080/"
        },
        "id": "FGKBmzuKzRIZ",
        "outputId": "f6a439d0-f363-487d-ff70-27f80f6f9488"
      },
      "execution_count": 119,
      "outputs": [
        {
          "output_type": "execute_result",
          "data": {
            "text/plain": [
              "array([-0.01722149, -0.02209673,  0.01661462, ..., -0.00596646,\n",
              "       -0.01698042, -0.0169632 ])"
            ]
          },
          "metadata": {},
          "execution_count": 119
        }
      ]
    },
    {
      "cell_type": "code",
      "source": [
        "plt.scatter(x_test_lot,y_test_lot, color = 'red')\n",
        "plt.plot(x_test_lot, y_pred_lot,color =  'blue')\n",
        "plt.title('truth or bluff(Linear Regression)')\n",
        "plt.xlabel('lot')\n",
        "plt.ylabel('price')\n",
        "plt.show()"
      ],
      "metadata": {
        "colab": {
          "base_uri": "https://localhost:8080/",
          "height": 295
        },
        "id": "mk-JKVIhinT1",
        "outputId": "a78d3807-164b-4054-dbac-48b09f2a22b2"
      },
      "execution_count": 120,
      "outputs": [
        {
          "output_type": "display_data",
          "data": {
            "text/plain": [
              "<Figure size 432x288 with 1 Axes>"
            ],
            "image/png": "[encoded data removed]"
          },
          "metadata": {
            "needs_background": "light"
          }
        }
      ]
    },
    {
      "cell_type": "code",
      "source": [
        "y_poly_pred_lot = linear_reg.predict(x_poly_lot)"
      ],
      "metadata": {
        "id": "mokHw_TT9-e2"
      },
      "execution_count": 121,
      "outputs": []
    },
    {
      "cell_type": "code",
      "source": [
        "plt.scatter(x_test_lot,y_test_lot, color = 'red')\n",
        "plt.plot(x_test_lot, y_poly_pred_lot,color =  'blue')\n",
        "plt.title('truth or bluff(Linear Regression)')\n",
        "plt.xlabel('lot')\n",
        "plt.ylabel('price')\n",
        "plt.show()"
      ],
      "metadata": {
        "colab": {
          "base_uri": "https://localhost:8080/",
          "height": 295
        },
        "id": "mySIns07-R6y",
        "outputId": "8b58654d-89cd-4042-9fcd-be371d81da7a"
      },
      "execution_count": 122,
      "outputs": [
        {
          "output_type": "display_data",
          "data": {
            "text/plain": [
              "<Figure size 432x288 with 1 Axes>"
            ],
            "image/png": "[encoded data removed]"
          },
          "metadata": {
            "needs_background": "light"
          }
        }
      ]
    },
    {
      "cell_type": "code",
      "source": [
        "plt.scatter(x_test_lot,y_test_lot, color = 'red')\n",
        "plt.plot(x_poly_lot, y_pred_lot,color =  'blue')\n",
        "plt.title('truth or bluff(Linear Regression)')\n",
        "plt.xlabel('lot')\n",
        "plt.ylabel('price')\n",
        "plt.show()"
      ],
      "metadata": {
        "colab": {
          "base_uri": "https://localhost:8080/",
          "height": 295
        },
        "id": "O0gD-7DU-hXE",
        "outputId": "08a248f8-1a69-425b-aee2-5a53223e28bf"
      },
      "execution_count": 123,
      "outputs": [
        {
          "output_type": "display_data",
          "data": {
            "text/plain": [
              "<Figure size 432x288 with 1 Axes>"
            ],
            "image/png": "[encoded data removed]"
          },
          "metadata": {
            "needs_background": "light"
          }
        }
      ]
    },
    {
      "cell_type": "markdown",
      "source": [
        "From the scatterplot, we can see that polynomial regression cannot be used to show the relationship between sqft_lot and price."
      ],
      "metadata": {
        "id": "x014o7W9E9cE"
      }
    },
    {
      "cell_type": "code",
      "source": [
        "x_sqft_above = trans_df.iloc[:,9]\n",
        "y_sqft_above = trans_df.iloc[:,-1]\n",
        "x_train_sqft_above, x_test_sqft_above, y_train_sqft_above, y_test_sqft_above = train_test_split(x_sqft_above, y_sqft_above, test_size =.2)\n",
        "x_train_sqft_above = np.array(x_train_sqft_above).reshape(-1,1)\n",
        "x_test_sqft_above = np.array(x_test_sqft_above).reshape(-1,1)\n",
        "\n",
        "\n",
        "sqft_above = LinearRegression()\n",
        "sqft_above.fit(x_train_sqft_above, y_train_sqft_above)\n",
        "\n",
        "target = sqft_above.predict(x_test_sqft_above)\n",
        "\n",
        "print('MSE', mean_squared_error(y_test_sqft_above, target))\n",
        "print('R squared:', metrics.r2_score(y_test_sqft_above, target))"
      ],
      "metadata": {
        "colab": {
          "base_uri": "https://localhost:8080/"
        },
        "id": "-zZJm2Su0jqc",
        "outputId": "d2756a69-a176-410c-87e2-64216c89cef2"
      },
      "execution_count": 101,
      "outputs": [
        {
          "output_type": "stream",
          "name": "stdout",
          "text": [
            "MSE 0.6436779890360677\n",
            "R squared: 0.35516609015833334\n"
          ]
        }
      ]
    },
    {
      "cell_type": "code",
      "source": [
        "from sklearn.preprocessing import PolynomialFeatures\n",
        "poly = PolynomialFeatures(degree = 4)"
      ],
      "metadata": {
        "id": "2exNsoo34a5n"
      },
      "execution_count": 102,
      "outputs": []
    },
    {
      "cell_type": "code",
      "source": [
        "x_poly = poly.fit_transform(x_test_sqft_above)\n",
        "lin_reg = LinearRegression()\n",
        "lin_reg.fit(x_poly, y_test_sqft_above)"
      ],
      "metadata": {
        "colab": {
          "base_uri": "https://localhost:8080/"
        },
        "id": "1yJSwTiA4z1y",
        "outputId": "530d8709-339f-42bd-e27a-65b911828ce5"
      },
      "execution_count": 103,
      "outputs": [
        {
          "output_type": "execute_result",
          "data": {
            "text/plain": [
              "LinearRegression()"
            ]
          },
          "metadata": {},
          "execution_count": 103
        }
      ]
    },
    {
      "cell_type": "code",
      "source": [
        "print('Intercept constant for our linear model:', sqft_above.intercept_)\n",
        "print('Coefficient of x for our linear model:', sqft_above.coef_)"
      ],
      "metadata": {
        "colab": {
          "base_uri": "https://localhost:8080/"
        },
        "id": "FYt4QSBN5OgC",
        "outputId": "9eaa0bac-6344-4eb8-c78c-fcac94522394"
      },
      "execution_count": 104,
      "outputs": [
        {
          "output_type": "stream",
          "name": "stdout",
          "text": [
            "Intercept constant for our linear model: -0.0029180499914418776\n",
            "Coefficient of x for our linear model: [0.60784078]\n"
          ]
        }
      ]
    },
    {
      "cell_type": "code",
      "source": [
        "y_predict = sqft_above.predict(x_test_sqft_above)\n",
        "y_predict"
      ],
      "metadata": {
        "colab": {
          "base_uri": "https://localhost:8080/"
        },
        "id": "JIb8yOT-5tx3",
        "outputId": "21b9dae3-8834-41b4-8760-a6c506968cc9"
      },
      "execution_count": 105,
      "outputs": [
        {
          "output_type": "execute_result",
          "data": {
            "text/plain": [
              "array([ 0.13039109, -0.14854546, -0.06780067, ...,  1.03326467,\n",
              "       -0.36141809,  0.26985937])"
            ]
          },
          "metadata": {},
          "execution_count": 105
        }
      ]
    },
    {
      "cell_type": "code",
      "source": [
        "plt.scatter(x_test_sqft_above, y_test_sqft_above, color = 'red')\n",
        "plt.plot(x_test_sqft_above, y_predict, color = 'blue')\n",
        "plt.title('Truth or bluff (Linear Regression)')\n",
        "plt.xlabel('sqft_above')\n",
        "plt.ylabel('price')\n",
        "plt.show()"
      ],
      "metadata": {
        "colab": {
          "base_uri": "https://localhost:8080/",
          "height": 296
        },
        "id": "emDVHCmM59VF",
        "outputId": "db5c7a1a-e791-48ab-8a4e-49663293dddd"
      },
      "execution_count": 106,
      "outputs": [
        {
          "output_type": "display_data",
          "data": {
            "text/plain": [
              "<Figure size 432x288 with 1 Axes>"
            ],
            "image/png": "[encoded data removed]"
          },
          "metadata": {
            "needs_background": "light"
          }
        }
      ]
    },
    {
      "cell_type": "code",
      "source": [
        "y_pred_poly = lin_reg.predict(x_poly)"
      ],
      "metadata": {
        "id": "vNBMDsRO7fso"
      },
      "execution_count": 107,
      "outputs": []
    },
    {
      "cell_type": "code",
      "source": [
        "plt.scatter(x_test_sqft_above, y_test_sqft_above, color = 'red')\n",
        "plt.plot(x_poly, y_pred_poly, color = 'blue')\n",
        "plt.title('Truth or bluff (Linear Regression)')\n",
        "plt.xlabel('sqft_above')\n",
        "plt.ylabel('price')\n",
        "plt.show()"
      ],
      "metadata": {
        "colab": {
          "base_uri": "https://localhost:8080/",
          "height": 296
        },
        "id": "A5c_UdSp7tDb",
        "outputId": "4c69dabb-1127-4bb3-eab2-20bd3bea2ce8"
      },
      "execution_count": 108,
      "outputs": [
        {
          "output_type": "display_data",
          "data": {
            "text/plain": [
              "<Figure size 432x288 with 1 Axes>"
            ],
            "image/png": "[encoded data removed]"
          },
          "metadata": {
            "needs_background": "light"
          }
        }
      ]
    },
    {
      "cell_type": "code",
      "source": [
        "plt.scatter(x_test_sqft_above, y_test_sqft_above, color = 'red')\n",
        "plt.plot(x_test_sqft_above, y_pred_poly, color = 'blue')\n",
        "plt.title('Truth or bluff (Linear Regression)')\n",
        "plt.xlabel('sqft_above')\n",
        "plt.ylabel('price')\n",
        "plt.show()"
      ],
      "metadata": {
        "colab": {
          "base_uri": "https://localhost:8080/",
          "height": 296
        },
        "id": "4sM6_BJu77lo",
        "outputId": "34965ad3-8ab2-4f79-f7da-ac3a939c5d5f"
      },
      "execution_count": 109,
      "outputs": [
        {
          "output_type": "display_data",
          "data": {
            "text/plain": [
              "<Figure size 432x288 with 1 Axes>"
            ],
            "image/png": "[encoded data removed]"
          },
          "metadata": {
            "needs_background": "light"
          }
        }
      ]
    },
    {
      "cell_type": "markdown",
      "source": [
        "**Polynomial regression is also unable to show the relationship between sqft_above and price.**"
      ],
      "metadata": {
        "id": "lOLDFn6vHKnw"
      }
    }
  ],
  "metadata": {
    "colab": {
      "provenance": [],
      "authorship_tag": "ABX9TyM/UEZb2F+hHiIaWvEwFLup",
      "include_colab_link": true
    },
    "kernelspec": {
      "display_name": "Python 3",
      "name": "python3"
    },
    "language_info": {
      "name": "python"
    }
  },
  "nbformat": 4,
  "nbformat_minor": 0
}